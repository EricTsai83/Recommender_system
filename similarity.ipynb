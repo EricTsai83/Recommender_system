{
 "cells": [
  {
   "cell_type": "code",
   "execution_count": 1,
   "id": "e4fbad82-3f00-4451-8165-be382de5d937",
   "metadata": {
    "execution": {
     "iopub.execute_input": "2021-12-12T15:40:09.243354Z",
     "iopub.status.busy": "2021-12-12T15:40:09.242353Z",
     "iopub.status.idle": "2021-12-12T15:40:10.876098Z",
     "shell.execute_reply": "2021-12-12T15:40:10.875098Z",
     "shell.execute_reply.started": "2021-12-12T15:40:09.243354Z"
    }
   },
   "outputs": [],
   "source": [
    "import pandas as pd\n",
    "from tqdm import notebook\n",
    "import numpy as np\n",
    "from scipy.spatial import distance_matrix"
   ]
  },
  {
   "cell_type": "markdown",
   "id": "c015bb1e-a8e3-49ae-9037-d1c20c86dcbb",
   "metadata": {},
   "source": [
    "### Euclidean Distance\n",
    "[[Reference]](https://en.wikipedia.org/wiki/Euclidean_distance)"
   ]
  },
  {
   "cell_type": "markdown",
   "id": "07f6af45-02e4-42ae-a45d-687671a42dec",
   "metadata": {
    "execution": {
     "iopub.execute_input": "2021-12-12T09:56:48.337648Z",
     "iopub.status.busy": "2021-12-12T09:56:48.336644Z",
     "iopub.status.idle": "2021-12-12T09:56:48.356638Z",
     "shell.execute_reply": "2021-12-12T09:56:48.354648Z",
     "shell.execute_reply.started": "2021-12-12T09:56:48.337648Z"
    }
   },
   "source": [
    ">#### Similarity from two vector"
   ]
  },
  {
   "cell_type": "code",
   "execution_count": 2,
   "id": "e832f33f-e4b9-415b-9dde-42beeef8fbae",
   "metadata": {
    "execution": {
     "iopub.execute_input": "2021-12-12T15:40:10.880098Z",
     "iopub.status.busy": "2021-12-12T15:40:10.879096Z",
     "iopub.status.idle": "2021-12-12T15:40:10.909092Z",
     "shell.execute_reply": "2021-12-12T15:40:10.907093Z",
     "shell.execute_reply.started": "2021-12-12T15:40:10.880098Z"
    },
    "tags": []
   },
   "outputs": [
    {
     "data": {
      "text/plain": [
       "array([[1.]])"
      ]
     },
     "execution_count": 2,
     "metadata": {},
     "output_type": "execute_result"
    }
   ],
   "source": [
    "distance_matrix([[0,0]], [[1,0]])"
   ]
  },
  {
   "cell_type": "markdown",
   "id": "ed3847b7-8621-49e3-b85a-9426247b3109",
   "metadata": {
    "execution": {
     "iopub.execute_input": "2021-12-12T10:18:19.213141Z",
     "iopub.status.busy": "2021-12-12T10:18:19.213141Z",
     "iopub.status.idle": "2021-12-12T10:18:19.236136Z",
     "shell.execute_reply": "2021-12-12T10:18:19.232138Z",
     "shell.execute_reply.started": "2021-12-12T10:18:19.213141Z"
    }
   },
   "source": [
    ">#### Similarity matrix\n",
    "\n",
    "[scipy.spatial.distance_matrix](https://docs.scipy.org/doc/scipy/reference/generated/scipy.spatial.distance_matrix.html)"
   ]
  },
  {
   "cell_type": "code",
   "execution_count": 3,
   "id": "a868b024-93ec-4f39-92c1-f2d39f6bc7ba",
   "metadata": {
    "execution": {
     "iopub.execute_input": "2021-12-12T15:40:10.911093Z",
     "iopub.status.busy": "2021-12-12T15:40:10.911093Z",
     "iopub.status.idle": "2021-12-12T15:40:10.925090Z",
     "shell.execute_reply": "2021-12-12T15:40:10.923092Z",
     "shell.execute_reply.started": "2021-12-12T15:40:10.911093Z"
    },
    "tags": []
   },
   "outputs": [
    {
     "data": {
      "text/plain": [
       "array([[1.        , 1.41421356],\n",
       "       [2.23606798, 2.        ]])"
      ]
     },
     "execution_count": 3,
     "metadata": {},
     "output_type": "execute_result"
    }
   ],
   "source": [
    "distance_matrix(\n",
    "    [[0,0], [3,1]],\n",
    "    [[1,0], [1,1]])"
   ]
  },
  {
   "cell_type": "markdown",
   "id": "b3658e2c-9070-4087-b687-9eb658ceb9cd",
   "metadata": {
    "execution": {
     "iopub.execute_input": "2021-12-12T10:03:46.461578Z",
     "iopub.status.busy": "2021-12-12T10:03:46.461578Z",
     "iopub.status.idle": "2021-12-12T10:03:46.478576Z",
     "shell.execute_reply": "2021-12-12T10:03:46.475576Z",
     "shell.execute_reply.started": "2021-12-12T10:03:46.461578Z"
    }
   },
   "source": [
    "**Note: if `matrix` is huge, you can set `threshold` which is parameter let algorithm uses a Python loop instead of large temporary arrays.**"
   ]
  },
  {
   "cell_type": "markdown",
   "id": "03a304b3-a4fc-4503-b8a2-61c32349c904",
   "metadata": {},
   "source": [
    "### Cosine-based similarity\n",
    "[[Reference]](https://en.wikipedia.org/wiki/Cosine_similarity)"
   ]
  },
  {
   "cell_type": "code",
   "execution_count": 4,
   "id": "e09e6b31-7476-4a91-8850-d359df8ca319",
   "metadata": {
    "execution": {
     "iopub.execute_input": "2021-12-12T15:40:10.928090Z",
     "iopub.status.busy": "2021-12-12T15:40:10.927091Z",
     "iopub.status.idle": "2021-12-12T15:40:12.252883Z",
     "shell.execute_reply": "2021-12-12T15:40:12.251883Z",
     "shell.execute_reply.started": "2021-12-12T15:40:10.928090Z"
    }
   },
   "outputs": [],
   "source": [
    "from sklearn.metrics.pairwise import cosine_similarity"
   ]
  },
  {
   "cell_type": "markdown",
   "id": "113e9d9e-9e8b-499d-9a95-735e9b0abe8f",
   "metadata": {},
   "source": [
    "因為餘弦值的範圍是[-1,+1]，把相似度計算時一般需要值歸一化到[0,1]，一般通過右方公式： `sim = 0.5 + 0.5 * cosθ`"
   ]
  },
  {
   "cell_type": "code",
   "execution_count": 5,
   "id": "eaf41987-caf5-4cb0-bf20-017382ca2074",
   "metadata": {
    "execution": {
     "iopub.execute_input": "2021-12-12T15:40:12.255885Z",
     "iopub.status.busy": "2021-12-12T15:40:12.254882Z",
     "iopub.status.idle": "2021-12-12T15:40:12.273880Z",
     "shell.execute_reply": "2021-12-12T15:40:12.267881Z",
     "shell.execute_reply.started": "2021-12-12T15:40:12.255885Z"
    }
   },
   "outputs": [],
   "source": [
    "def _cosine_similarity(x, y):\n",
    "    return 0.5 + 0.5 * cosine_similarity(x, y)"
   ]
  },
  {
   "cell_type": "markdown",
   "id": "8950513c-2100-4ec9-9f44-9c83363e17dd",
   "metadata": {},
   "source": [
    "```\n",
    "vec_a = [[a1, a2]]\n",
    "vec_b = [[b1, b2]]\n",
    "cosine_similarity 計算如下:          \n",
    "    [[cosine_sim(a1, b1)     cosine_sim(a1, b2)],    \n",
    "     [cosine_sim(a2, b1)     cosine_sim(a2, b2)]] \n",
    "```"
   ]
  },
  {
   "cell_type": "markdown",
   "id": "04f4eb38-de5c-416a-9ac5-1e85699f09f2",
   "metadata": {
    "execution": {
     "iopub.execute_input": "2021-12-12T09:56:48.337648Z",
     "iopub.status.busy": "2021-12-12T09:56:48.336644Z",
     "iopub.status.idle": "2021-12-12T09:56:48.356638Z",
     "shell.execute_reply": "2021-12-12T09:56:48.354648Z",
     "shell.execute_reply.started": "2021-12-12T09:56:48.337648Z"
    }
   },
   "source": [
    ">#### Similarity from two vector"
   ]
  },
  {
   "cell_type": "code",
   "execution_count": 6,
   "id": "444edad8-6cef-4d8b-8352-b3054d498ec6",
   "metadata": {
    "execution": {
     "iopub.execute_input": "2021-12-12T15:40:12.277880Z",
     "iopub.status.busy": "2021-12-12T15:40:12.276880Z",
     "iopub.status.idle": "2021-12-12T15:40:12.302876Z",
     "shell.execute_reply": "2021-12-12T15:40:12.299875Z",
     "shell.execute_reply.started": "2021-12-12T15:40:12.277880Z"
    },
    "tags": []
   },
   "outputs": [],
   "source": [
    "vec_a = [[-1, -2, -3, -4, -5],[1, -2, -3, -4, -5]]\n",
    "vec_b = [[1, 3, 5, 7, 9], [-1, -2, -3, -4, -5]]"
   ]
  },
  {
   "cell_type": "code",
   "execution_count": 7,
   "id": "e09cf9ed-39e1-4a0e-97c6-b385d0471540",
   "metadata": {
    "execution": {
     "iopub.execute_input": "2021-12-12T15:40:12.311874Z",
     "iopub.status.busy": "2021-12-12T15:40:12.310874Z",
     "iopub.status.idle": "2021-12-12T15:40:12.354867Z",
     "shell.execute_reply": "2021-12-12T15:40:12.347869Z",
     "shell.execute_reply.started": "2021-12-12T15:40:12.311874Z"
    },
    "tags": []
   },
   "outputs": [
    {
     "data": {
      "text/plain": [
       "array([[0.00137931, 1.        ],\n",
       "       [0.01187659, 0.98181818]])"
      ]
     },
     "execution_count": 7,
     "metadata": {},
     "output_type": "execute_result"
    }
   ],
   "source": [
    "_cosine_similarity(vec_a, vec_b)"
   ]
  },
  {
   "cell_type": "markdown",
   "id": "dd543768-b014-48bb-bb9f-3cff8c2d7342",
   "metadata": {
    "execution": {
     "iopub.execute_input": "2021-12-12T10:18:19.213141Z",
     "iopub.status.busy": "2021-12-12T10:18:19.213141Z",
     "iopub.status.idle": "2021-12-12T10:18:19.236136Z",
     "shell.execute_reply": "2021-12-12T10:18:19.232138Z",
     "shell.execute_reply.started": "2021-12-12T10:18:19.213141Z"
    }
   },
   "source": [
    ">#### Similarity matrix"
   ]
  },
  {
   "cell_type": "code",
   "execution_count": 8,
   "id": "7360fd0f-dd88-4840-9494-c5661fbc09ec",
   "metadata": {
    "execution": {
     "iopub.execute_input": "2021-12-12T15:40:12.359868Z",
     "iopub.status.busy": "2021-12-12T15:40:12.359868Z",
     "iopub.status.idle": "2021-12-12T15:40:12.380863Z",
     "shell.execute_reply": "2021-12-12T15:40:12.379864Z",
     "shell.execute_reply.started": "2021-12-12T15:40:12.359868Z"
    },
    "tags": []
   },
   "outputs": [
    {
     "data": {
      "text/plain": [
       "array([[0.        , 0.        ],\n",
       "       [0.70710678, 1.        ]])"
      ]
     },
     "execution_count": 8,
     "metadata": {},
     "output_type": "execute_result"
    }
   ],
   "source": [
    "from sklearn.metrics.pairwise import cosine_similarity\n",
    "cosine_similarity(\n",
    "    [[0,0], [1,1]],\n",
    "    [[3,0], [1,1]])"
   ]
  },
  {
   "cell_type": "markdown",
   "id": "d4dabe83-9da0-4601-a256-868e3b5d5f37",
   "metadata": {},
   "source": [
    "### Adjusted Cosine Similarity\n",
    "[[Reference]](https://stackoverflow.com/questions/40716459/choice-between-an-adjusted-cosine-similarity-vs-regular-cosine-similarity)\n",
    "\n",
    "A和B兩個用戶對兩個內容的評分分別為（1,2）和（4,5），使用餘弦相似度得到的結果是0.98。但從極度上看A似乎不喜歡這兩個Item，但B喜歡。餘弦相似度對絕對數值不敏感，所以需要修改這種不合理性。而Adjusted Cosine Similarity就是减去對item i打過分的每個user，其打分的平均值"
   ]
  },
  {
   "cell_type": "code",
   "execution_count": 9,
   "id": "24dfe2d5-58ea-4afc-84b7-8153547406e0",
   "metadata": {
    "execution": {
     "iopub.execute_input": "2021-12-12T15:40:12.385864Z",
     "iopub.status.busy": "2021-12-12T15:40:12.383865Z",
     "iopub.status.idle": "2021-12-12T15:40:12.397861Z",
     "shell.execute_reply": "2021-12-12T15:40:12.395861Z",
     "shell.execute_reply.started": "2021-12-12T15:40:12.385864Z"
    }
   },
   "outputs": [],
   "source": [
    "from scipy import spatial\n",
    "import numpy as np\n",
    "a = np.array([2.0,1.0])  \n",
    "b = np.array([5.0,3.0])"
   ]
  },
  {
   "cell_type": "markdown",
   "id": "63054074-3afa-4011-a1c9-497068a89392",
   "metadata": {},
   "source": [
    ">#### Regular Cosine Similarity"
   ]
  },
  {
   "cell_type": "code",
   "execution_count": 10,
   "id": "8807cc4b-61fe-4f6b-95da-ecb734c990d0",
   "metadata": {
    "execution": {
     "iopub.execute_input": "2021-12-12T15:40:12.400872Z",
     "iopub.status.busy": "2021-12-12T15:40:12.399861Z",
     "iopub.status.idle": "2021-12-12T15:40:12.413859Z",
     "shell.execute_reply": "2021-12-12T15:40:12.411858Z",
     "shell.execute_reply.started": "2021-12-12T15:40:12.400872Z"
    }
   },
   "outputs": [
    {
     "data": {
      "text/plain": [
       "0.9970544855015815"
      ]
     },
     "execution_count": 10,
     "metadata": {},
     "output_type": "execute_result"
    }
   ],
   "source": [
    "1 - spatial.distance.cosine(a,b)"
   ]
  },
  {
   "cell_type": "code",
   "execution_count": 11,
   "id": "38cbbd14-7e69-4844-8575-aeb52b98ce4c",
   "metadata": {
    "execution": {
     "iopub.execute_input": "2021-12-12T15:40:12.418873Z",
     "iopub.status.busy": "2021-12-12T15:40:12.415858Z",
     "iopub.status.idle": "2021-12-12T15:40:12.444854Z",
     "shell.execute_reply": "2021-12-12T15:40:12.442853Z",
     "shell.execute_reply.started": "2021-12-12T15:40:12.418873Z"
    }
   },
   "outputs": [
    {
     "data": {
      "text/plain": [
       "0.9909924304103233"
      ]
     },
     "execution_count": 11,
     "metadata": {},
     "output_type": "execute_result"
    }
   ],
   "source": [
    "c = np.array([5.0,4.0])\n",
    "1 - spatial.distance.cosine(c,b)"
   ]
  },
  {
   "cell_type": "markdown",
   "id": "fb5961c8-91e9-48dd-98d4-1d4078ec0489",
   "metadata": {},
   "source": [
    ">#### Adjusted Cosine Similarity"
   ]
  },
  {
   "cell_type": "code",
   "execution_count": 12,
   "id": "2f006e6d-6eee-442b-8ef9-ca20258927f1",
   "metadata": {
    "execution": {
     "iopub.execute_input": "2021-12-12T15:40:12.450853Z",
     "iopub.status.busy": "2021-12-12T15:40:12.449853Z",
     "iopub.status.idle": "2021-12-12T15:40:12.475849Z",
     "shell.execute_reply": "2021-12-12T15:40:12.473850Z",
     "shell.execute_reply.started": "2021-12-12T15:40:12.450853Z"
    }
   },
   "outputs": [
    {
     "data": {
      "text/plain": [
       "3.5"
      ]
     },
     "execution_count": 12,
     "metadata": {},
     "output_type": "execute_result"
    }
   ],
   "source": [
    "mean_ab = sum(sum(a,b)) / 4\n",
    "mean_ab"
   ]
  },
  {
   "cell_type": "code",
   "execution_count": 13,
   "id": "7a33fd0e-23bd-4ac1-9b95-92d9d574f18f",
   "metadata": {
    "execution": {
     "iopub.execute_input": "2021-12-12T15:40:12.478850Z",
     "iopub.status.busy": "2021-12-12T15:40:12.477848Z",
     "iopub.status.idle": "2021-12-12T15:40:12.506847Z",
     "shell.execute_reply": "2021-12-12T15:40:12.503845Z",
     "shell.execute_reply.started": "2021-12-12T15:40:12.478850Z"
    }
   },
   "outputs": [
    {
     "data": {
      "text/plain": [
       "-0.21693045781865616"
      ]
     },
     "execution_count": 13,
     "metadata": {},
     "output_type": "execute_result"
    }
   ],
   "source": [
    "1 - spatial.distance.cosine(a - mean_ab, b - mean_ab)"
   ]
  },
  {
   "cell_type": "code",
   "execution_count": 14,
   "id": "ba80504d-a6d1-4f2c-b213-205114451b20",
   "metadata": {
    "execution": {
     "iopub.execute_input": "2021-12-12T15:40:12.510843Z",
     "iopub.status.busy": "2021-12-12T15:40:12.509844Z",
     "iopub.status.idle": "2021-12-12T15:40:12.539838Z",
     "shell.execute_reply": "2021-12-12T15:40:12.537853Z",
     "shell.execute_reply.started": "2021-12-12T15:40:12.510843Z"
    }
   },
   "outputs": [
    {
     "data": {
      "text/plain": [
       "6.5"
      ]
     },
     "execution_count": 14,
     "metadata": {},
     "output_type": "execute_result"
    }
   ],
   "source": [
    "mean_cb = sum(sum(c,b)) / 4\n",
    "mean_cb"
   ]
  },
  {
   "cell_type": "code",
   "execution_count": 15,
   "id": "e9c854dd-21e6-4b39-a1c4-71900e0c78f0",
   "metadata": {
    "execution": {
     "iopub.execute_input": "2021-12-12T15:40:12.542838Z",
     "iopub.status.busy": "2021-12-12T15:40:12.541839Z",
     "iopub.status.idle": "2021-12-12T15:40:12.573833Z",
     "shell.execute_reply": "2021-12-12T15:40:12.569835Z",
     "shell.execute_reply.started": "2021-12-12T15:40:12.542838Z"
    }
   },
   "outputs": [
    {
     "data": {
      "text/plain": [
       "0.9908301680442989"
      ]
     },
     "execution_count": 15,
     "metadata": {},
     "output_type": "execute_result"
    }
   ],
   "source": [
    "1 - spatial.distance.cosine(c - mean_cb, b - mean_cb)"
   ]
  },
  {
   "cell_type": "markdown",
   "id": "77d1dff1-2161-4c59-9b83-098da07c1528",
   "metadata": {},
   "source": [
    "### Pearson (correlation)-based similarity"
   ]
  },
  {
   "cell_type": "code",
   "execution_count": 16,
   "id": "efe193ba-d6db-4080-9109-feed14127b92",
   "metadata": {
    "execution": {
     "iopub.execute_input": "2021-12-12T15:40:12.576833Z",
     "iopub.status.busy": "2021-12-12T15:40:12.576833Z",
     "iopub.status.idle": "2021-12-12T15:40:12.600830Z",
     "shell.execute_reply": "2021-12-12T15:40:12.597830Z",
     "shell.execute_reply.started": "2021-12-12T15:40:12.576833Z"
    },
    "tags": []
   },
   "outputs": [],
   "source": [
    "def pearson(x, y):\n",
    "    return 0.5 + 0.5 * np.corrcoef(x, y, rowvar=True) # 歸一化"
   ]
  },
  {
   "cell_type": "code",
   "execution_count": 17,
   "id": "fdb617db-fcc3-439c-9d85-b35987898d71",
   "metadata": {
    "execution": {
     "iopub.execute_input": "2021-12-12T15:40:12.605828Z",
     "iopub.status.busy": "2021-12-12T15:40:12.604847Z",
     "iopub.status.idle": "2021-12-12T15:40:12.615826Z",
     "shell.execute_reply": "2021-12-12T15:40:12.613827Z",
     "shell.execute_reply.started": "2021-12-12T15:40:12.605828Z"
    },
    "tags": []
   },
   "outputs": [],
   "source": [
    "vec_a = [[-1, -2, -3, -4, -5], [-1, -2, -3, -4, -5]]\n",
    "vec_b = [[6, 8, 1, 7, 2], [-5, -2, -3, -4, -5]]"
   ]
  },
  {
   "cell_type": "markdown",
   "id": "0543be17-87d5-45e9-baea-6bdd0db5d04c",
   "metadata": {
    "execution": {
     "iopub.execute_input": "2021-12-12T13:54:59.989022Z",
     "iopub.status.busy": "2021-12-12T13:54:59.989022Z",
     "iopub.status.idle": "2021-12-12T13:55:00.005018Z",
     "shell.execute_reply": "2021-12-12T13:55:00.003025Z",
     "shell.execute_reply.started": "2021-12-12T13:54:59.989022Z"
    }
   },
   "source": [
    "雖然有兩個dataset，但其實你可以想像是一個dataset，然後一列一列計算相關性\n",
    "所以整個大的相關性矩陣式是\n",
    "* a、b 是一個 list 或向量\n",
    "```\n",
    "vec_a = [[a1, a2]]\n",
    "vec_b = [[b1, b2]]\n",
    "np.corrcoef 計算的是相關性矩陣\n",
    "                  a1             a2             b1             b2\n",
    "        a1   corr(a1, a1)   corr(a1, a2)   corr(a1, b1)   corr(a1, b2)\n",
    "        a2   corr(a2, a1)   corr(a2, a2)   corr(a2, b1)   corr(a2, b2)\n",
    "        b1   corr(b1, a1)   corr(b1, a2)   corr(b1, b1)   corr(b1, b2)\n",
    "        b2   corr(b2, a1)   corr(b2, a2)   corr(b2, b1)   corr(b2, b2)\n",
    "```"
   ]
  },
  {
   "cell_type": "code",
   "execution_count": 18,
   "id": "54a0070f-b95b-4e36-8385-529bdbf10c2c",
   "metadata": {
    "execution": {
     "iopub.execute_input": "2021-12-12T15:40:12.619825Z",
     "iopub.status.busy": "2021-12-12T15:40:12.618836Z",
     "iopub.status.idle": "2021-12-12T15:40:12.646822Z",
     "shell.execute_reply": "2021-12-12T15:40:12.645825Z",
     "shell.execute_reply.started": "2021-12-12T15:40:12.619825Z"
    },
    "tags": []
   },
   "outputs": [
    {
     "data": {
      "text/plain": [
       "array([[1.        , 1.        , 0.72845289, 0.62126781],\n",
       "       [1.        , 1.        , 0.72845289, 0.62126781],\n",
       "       [0.72845289, 0.72845289, 1.        , 0.62928525],\n",
       "       [0.62126781, 0.62126781, 0.62928525, 1.        ]])"
      ]
     },
     "execution_count": 18,
     "metadata": {},
     "output_type": "execute_result"
    }
   ],
   "source": [
    "pearson(vec_a, vec_b)"
   ]
  },
  {
   "cell_type": "markdown",
   "id": "5eb85345-52c3-4a2c-b7e2-8733363887ff",
   "metadata": {},
   "source": [
    "### Hamming Distance\n",
    "[[Reference]](https://en.wikipedia.org/wiki/Hamming_distance)\n",
    "\n",
    "The Hamming distance between 1-D arrays u and v, is simply the proportion of disagreeing components in u and v. "
   ]
  },
  {
   "cell_type": "code",
   "execution_count": 19,
   "id": "2173aedd-113d-4192-b99e-dbd9bc24001d",
   "metadata": {
    "execution": {
     "iopub.execute_input": "2021-12-12T15:40:12.649822Z",
     "iopub.status.busy": "2021-12-12T15:40:12.649822Z",
     "iopub.status.idle": "2021-12-12T15:40:12.662819Z",
     "shell.execute_reply": "2021-12-12T15:40:12.661819Z",
     "shell.execute_reply.started": "2021-12-12T15:40:12.649822Z"
    },
    "tags": []
   },
   "outputs": [],
   "source": [
    "from scipy.spatial.distance import hamming"
   ]
  },
  {
   "cell_type": "code",
   "execution_count": 20,
   "id": "f174c5c5-491f-4b92-8380-f0bcf1b20f03",
   "metadata": {
    "execution": {
     "iopub.execute_input": "2021-12-12T15:40:12.666818Z",
     "iopub.status.busy": "2021-12-12T15:40:12.665818Z",
     "iopub.status.idle": "2021-12-12T15:40:12.678817Z",
     "shell.execute_reply": "2021-12-12T15:40:12.677816Z",
     "shell.execute_reply.started": "2021-12-12T15:40:12.666818Z"
    },
    "tags": []
   },
   "outputs": [],
   "source": [
    "x = [7, 12, 14, 19, 22]\n",
    "y = [7, 12, 16, 26, 27]"
   ]
  },
  {
   "cell_type": "code",
   "execution_count": 21,
   "id": "a748cc60-1053-4b26-a4f8-3dfa4259760f",
   "metadata": {
    "execution": {
     "iopub.execute_input": "2021-12-12T15:40:12.683816Z",
     "iopub.status.busy": "2021-12-12T15:40:12.681816Z",
     "iopub.status.idle": "2021-12-12T15:40:12.694814Z",
     "shell.execute_reply": "2021-12-12T15:40:12.693814Z",
     "shell.execute_reply.started": "2021-12-12T15:40:12.683816Z"
    },
    "tags": []
   },
   "outputs": [
    {
     "data": {
      "text/plain": [
       "0.6"
      ]
     },
     "execution_count": 21,
     "metadata": {},
     "output_type": "execute_result"
    }
   ],
   "source": [
    "hamming(x, y)"
   ]
  },
  {
   "cell_type": "markdown",
   "id": "43aaa5a9-abc7-4521-b4af-9fdd9604ac99",
   "metadata": {},
   "source": [
    "### Manhattan Distance\n",
    "[[Reference]](https://zh.wikipedia.org/zh-tw/%E6%9B%BC%E5%93%88%E9%A0%93%E8%B7%9D%E9%9B%A2)"
   ]
  },
  {
   "cell_type": "markdown",
   "id": "facfde5e-6d02-48ab-b5e8-58df82cd88b2",
   "metadata": {},
   "source": [
    "坐標（x1, y1）的點P1與坐標（x2, y2）的點P2的曼哈頓距離為\n",
    "${\\displaystyle d(x,y)=\\left|x_{1}-x_{2}\\right|+\\left|y_{1}-y_{2}\\right|.}$"
   ]
  },
  {
   "cell_type": "code",
   "execution_count": 22,
   "id": "68ea35b8-d40d-4433-b058-bc2cf93be5f8",
   "metadata": {
    "execution": {
     "iopub.execute_input": "2021-12-12T15:40:12.696814Z",
     "iopub.status.busy": "2021-12-12T15:40:12.695813Z",
     "iopub.status.idle": "2021-12-12T15:40:12.710812Z",
     "shell.execute_reply": "2021-12-12T15:40:12.709810Z",
     "shell.execute_reply.started": "2021-12-12T15:40:12.696814Z"
    },
    "tags": []
   },
   "outputs": [],
   "source": [
    "x = [0, 1, 1, 1, 0, 1]\n",
    "y = [0, 9, 1, 1, 0, 2]"
   ]
  },
  {
   "cell_type": "code",
   "execution_count": 23,
   "id": "dbf4469e-430b-421c-9061-fa4d6ace3a60",
   "metadata": {
    "execution": {
     "iopub.execute_input": "2021-12-12T15:40:12.712813Z",
     "iopub.status.busy": "2021-12-12T15:40:12.711811Z",
     "iopub.status.idle": "2021-12-12T15:40:12.726809Z",
     "shell.execute_reply": "2021-12-12T15:40:12.725809Z",
     "shell.execute_reply.started": "2021-12-12T15:40:12.712813Z"
    },
    "tags": []
   },
   "outputs": [],
   "source": [
    "def manhattan_distance(x, y):\n",
    "    if isinstance(x, np.ndarray):\n",
    "        return np.abs(x - y).sum()\n",
    "    else:\n",
    "        return np.abs(np.array(x) - np.array(y)).sum()"
   ]
  },
  {
   "cell_type": "code",
   "execution_count": 24,
   "id": "db6bffb6-bb4b-4374-bbe5-5eaf5cf50e77",
   "metadata": {
    "execution": {
     "iopub.execute_input": "2021-12-12T15:40:12.728808Z",
     "iopub.status.busy": "2021-12-12T15:40:12.727808Z",
     "iopub.status.idle": "2021-12-12T15:40:12.741807Z",
     "shell.execute_reply": "2021-12-12T15:40:12.740806Z",
     "shell.execute_reply.started": "2021-12-12T15:40:12.728808Z"
    },
    "tags": []
   },
   "outputs": [
    {
     "data": {
      "text/plain": [
       "9"
      ]
     },
     "execution_count": 24,
     "metadata": {},
     "output_type": "execute_result"
    }
   ],
   "source": [
    "manhattan_distance(x, y)"
   ]
  },
  {
   "cell_type": "markdown",
   "id": "a4269e0b-9f6e-463d-a159-5c7ad04c2e98",
   "metadata": {},
   "source": [
    "### Suggestion for recommendation system:\n",
    "* Use Pearson when your data is subject to user-bias/ different ratings scales of users\n",
    "* Use Cosine, if data is sparse (many ratings are undefined)\n",
    "* Use Euclidean, if your data is not sparse and the magnitude of the attribute values is significant\n",
    "* Use adjusted cosine for Item-based approach to adjust for user-bias\n",
    "\n"
   ]
  }
 ],
 "metadata": {
  "kernelspec": {
   "display_name": "Python 3",
   "language": "python",
   "name": "python3"
  },
  "language_info": {
   "codemirror_mode": {
    "name": "ipython",
    "version": 3
   },
   "file_extension": ".py",
   "mimetype": "text/x-python",
   "name": "python",
   "nbconvert_exporter": "python",
   "pygments_lexer": "ipython3",
   "version": "3.7.10"
  }
 },
 "nbformat": 4,
 "nbformat_minor": 5
}
