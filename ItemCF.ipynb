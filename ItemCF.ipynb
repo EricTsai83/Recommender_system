{
 "cells": [
  {
   "cell_type": "markdown",
   "id": "36c2038c",
   "metadata": {},
   "source": [
    "### 目的: 電影推薦系統\n",
    "### 應用場景:\n",
    "1. 新用戶沒有過去評分資訊，所以需先讓用戶挑選一些覺得不錯的電影，然後找出與這個電影評分狀況類似的電影\n",
    "2. 舊用戶可以找出過去正回饋的樣本，然後找出與這個電影評分狀況類似的電影\n",
    "EX.當新客戶選擇喜歡的電影後，根據其他電影的客戶評分資料，找出是不是有喜歡A電影的人，也同像喜歡某電影，而不喜歡A電影的人，也同樣不喜歡某電影\n",
    "   其實可以把其他客戶的評分想成電影的特徵值\n",
    "### 演算法\n",
    "1. 基於歷史評分資料，建置以使用者(總數m)列座標，物品(總數n)為行座標的的`m*n`共現矩陣(Co-occurrence Matrix)\n",
    "2. 計算共現矩陣兩兩行向量間的相似性，建立`n*n`維的物品相似度矩陣\n",
    "3. 獲得使用者歷史行為資料中的正回饋物品列表;新使用者則需先填寫偏好的物品作為正回饋樣本\n",
    "4. 利用相似度矩陣，針對目標使用者歷史行為中的正回饋物品，找出相似的Top K個物品，組成相似物品的集合\n",
    "5. 對相似物品集合中的物品，利用相似度進行排序，產生最後的推薦利表\n",
    "**note: 如果一個物品與使用者行為歷史中的多個正回饋物品相似，那麼該物品的相似度應該是多個相似度相加，代表該物品跟使用者正回饋物品集合很相似**\n",
    "### 模型(ItemCF的架構):\n",
    "相似性的計算用 `Adjusted Cosine Similarity`\n",
    "\n",
    "### 缺點: \n",
    "1. 熱門的物品具有很強的領頭效應，容易跟大量物品產生相似性;而尾部的物品由於特徵向量稀疏，很少與其他物品產生相似性，導致很少被推薦\n",
    "2. 協同過濾僅利用使用者和物品的互動資訊，無法有效地引用使用者年齡、性別、商品描述、商品分類、當下時間等使用者特徵、物品特徵、上下文特徵"
   ]
  },
  {
   "cell_type": "code",
   "execution_count": 1,
   "id": "d595ae22",
   "metadata": {
    "execution": {
     "iopub.execute_input": "2021-12-19T14:46:54.644084Z",
     "iopub.status.busy": "2021-12-19T14:46:54.643085Z",
     "iopub.status.idle": "2021-12-19T14:47:15.625679Z",
     "shell.execute_reply": "2021-12-19T14:47:15.624572Z",
     "shell.execute_reply.started": "2021-12-19T14:46:54.643085Z"
    },
    "tags": []
   },
   "outputs": [],
   "source": [
    "import pandas as pd\n",
    "from utils import grid_df_display, check_nan_by_row\n",
    "from sklearn.metrics.pairwise import cosine_similarity\n",
    "from tqdm.notebook import tqdm\n",
    "\n",
    "import scipy.spatial.distance as ssd\n",
    "from scipy.sparse import issparse\n",
    "import numpy as np"
   ]
  },
  {
   "cell_type": "code",
   "execution_count": 2,
   "id": "3c950864",
   "metadata": {
    "execution": {
     "iopub.execute_input": "2021-12-19T14:47:15.633696Z",
     "iopub.status.busy": "2021-12-19T14:47:15.632699Z",
     "iopub.status.idle": "2021-12-19T14:47:32.160164Z",
     "shell.execute_reply": "2021-12-19T14:47:32.159158Z",
     "shell.execute_reply.started": "2021-12-19T14:47:15.633696Z"
    },
    "tags": []
   },
   "outputs": [],
   "source": [
    "titles = pd.read_csv('./Data/movies.csv')\n",
    "ratings = pd.read_csv('./Data/ratings.csv')"
   ]
  },
  {
   "cell_type": "code",
   "execution_count": 3,
   "id": "080db162",
   "metadata": {
    "execution": {
     "iopub.execute_input": "2021-12-19T14:47:32.169161Z",
     "iopub.status.busy": "2021-12-19T14:47:32.168165Z",
     "iopub.status.idle": "2021-12-19T14:47:35.701617Z",
     "shell.execute_reply": "2021-12-19T14:47:35.697615Z",
     "shell.execute_reply.started": "2021-12-19T14:47:32.169161Z"
    },
    "tags": []
   },
   "outputs": [
    {
     "data": {
      "text/html": [
       "<table style='width:100%; border:0px'><tr style='border:0px'><td style='width:50.0%;vertical-align:top;border:0px'><style  type=\"text/css\" >\n",
       "</style><table id=\"T_43f8e_\" style='display:inline'><caption><b><H2>Movie Attributes<H2></b></caption><thead>    <tr>        <th class=\"blank level0\" ></th>        <th class=\"col_heading level0 col0\" >movieId</th>        <th class=\"col_heading level0 col1\" >title</th>        <th class=\"col_heading level0 col2\" >genres</th>    </tr></thead><tbody>\n",
       "                <tr>\n",
       "                        <th id=\"T_43f8e_level0_row0\" class=\"row_heading level0 row0\" >0</th>\n",
       "                        <td id=\"T_43f8e_row0_col0\" class=\"data row0 col0\" >1</td>\n",
       "                        <td id=\"T_43f8e_row0_col1\" class=\"data row0 col1\" >Toy Story (1995)</td>\n",
       "                        <td id=\"T_43f8e_row0_col2\" class=\"data row0 col2\" >Adventure|Animation|Children|Comedy|Fantasy</td>\n",
       "            </tr>\n",
       "            <tr>\n",
       "                        <th id=\"T_43f8e_level0_row1\" class=\"row_heading level0 row1\" >1</th>\n",
       "                        <td id=\"T_43f8e_row1_col0\" class=\"data row1 col0\" >2</td>\n",
       "                        <td id=\"T_43f8e_row1_col1\" class=\"data row1 col1\" >Jumanji (1995)</td>\n",
       "                        <td id=\"T_43f8e_row1_col2\" class=\"data row1 col2\" >Adventure|Children|Fantasy</td>\n",
       "            </tr>\n",
       "            <tr>\n",
       "                        <th id=\"T_43f8e_level0_row2\" class=\"row_heading level0 row2\" >2</th>\n",
       "                        <td id=\"T_43f8e_row2_col0\" class=\"data row2 col0\" >3</td>\n",
       "                        <td id=\"T_43f8e_row2_col1\" class=\"data row2 col1\" >Grumpier Old Men (1995)</td>\n",
       "                        <td id=\"T_43f8e_row2_col2\" class=\"data row2 col2\" >Comedy|Romance</td>\n",
       "            </tr>\n",
       "            <tr>\n",
       "                        <th id=\"T_43f8e_level0_row3\" class=\"row_heading level0 row3\" >3</th>\n",
       "                        <td id=\"T_43f8e_row3_col0\" class=\"data row3 col0\" >4</td>\n",
       "                        <td id=\"T_43f8e_row3_col1\" class=\"data row3 col1\" >Waiting to Exhale (1995)</td>\n",
       "                        <td id=\"T_43f8e_row3_col2\" class=\"data row3 col2\" >Comedy|Drama|Romance</td>\n",
       "            </tr>\n",
       "            <tr>\n",
       "                        <th id=\"T_43f8e_level0_row4\" class=\"row_heading level0 row4\" >4</th>\n",
       "                        <td id=\"T_43f8e_row4_col0\" class=\"data row4 col0\" >5</td>\n",
       "                        <td id=\"T_43f8e_row4_col1\" class=\"data row4 col1\" >Father of the Bride Part II (1995)</td>\n",
       "                        <td id=\"T_43f8e_row4_col2\" class=\"data row4 col2\" >Comedy</td>\n",
       "            </tr>\n",
       "            <tr>\n",
       "                        <th id=\"T_43f8e_level0_row5\" class=\"row_heading level0 row5\" >5</th>\n",
       "                        <td id=\"T_43f8e_row5_col0\" class=\"data row5 col0\" >6</td>\n",
       "                        <td id=\"T_43f8e_row5_col1\" class=\"data row5 col1\" >Heat (1995)</td>\n",
       "                        <td id=\"T_43f8e_row5_col2\" class=\"data row5 col2\" >Action|Crime|Thriller</td>\n",
       "            </tr>\n",
       "            <tr>\n",
       "                        <th id=\"T_43f8e_level0_row6\" class=\"row_heading level0 row6\" >6</th>\n",
       "                        <td id=\"T_43f8e_row6_col0\" class=\"data row6 col0\" >7</td>\n",
       "                        <td id=\"T_43f8e_row6_col1\" class=\"data row6 col1\" >Sabrina (1995)</td>\n",
       "                        <td id=\"T_43f8e_row6_col2\" class=\"data row6 col2\" >Comedy|Romance</td>\n",
       "            </tr>\n",
       "            <tr>\n",
       "                        <th id=\"T_43f8e_level0_row7\" class=\"row_heading level0 row7\" >7</th>\n",
       "                        <td id=\"T_43f8e_row7_col0\" class=\"data row7 col0\" >8</td>\n",
       "                        <td id=\"T_43f8e_row7_col1\" class=\"data row7 col1\" >Tom and Huck (1995)</td>\n",
       "                        <td id=\"T_43f8e_row7_col2\" class=\"data row7 col2\" >Adventure|Children</td>\n",
       "            </tr>\n",
       "            <tr>\n",
       "                        <th id=\"T_43f8e_level0_row8\" class=\"row_heading level0 row8\" >8</th>\n",
       "                        <td id=\"T_43f8e_row8_col0\" class=\"data row8 col0\" >9</td>\n",
       "                        <td id=\"T_43f8e_row8_col1\" class=\"data row8 col1\" >Sudden Death (1995)</td>\n",
       "                        <td id=\"T_43f8e_row8_col2\" class=\"data row8 col2\" >Action</td>\n",
       "            </tr>\n",
       "            <tr>\n",
       "                        <th id=\"T_43f8e_level0_row9\" class=\"row_heading level0 row9\" >9</th>\n",
       "                        <td id=\"T_43f8e_row9_col0\" class=\"data row9 col0\" >10</td>\n",
       "                        <td id=\"T_43f8e_row9_col1\" class=\"data row9 col1\" >GoldenEye (1995)</td>\n",
       "                        <td id=\"T_43f8e_row9_col2\" class=\"data row9 col2\" >Action|Adventure|Thriller</td>\n",
       "            </tr>\n",
       "    </tbody></table></td><td style='width:50.0%;vertical-align:top;border:0px'><style  type=\"text/css\" >\n",
       "</style><table id=\"T_367ac_\" style='display:inline'><caption><b><H2>Rating<H2></b></caption><thead>    <tr>        <th class=\"blank level0\" ></th>        <th class=\"col_heading level0 col0\" >userId</th>        <th class=\"col_heading level0 col1\" >movieId</th>        <th class=\"col_heading level0 col2\" >rating</th>        <th class=\"col_heading level0 col3\" >timestamp</th>    </tr></thead><tbody>\n",
       "                <tr>\n",
       "                        <th id=\"T_367ac_level0_row0\" class=\"row_heading level0 row0\" >0</th>\n",
       "                        <td id=\"T_367ac_row0_col0\" class=\"data row0 col0\" >1</td>\n",
       "                        <td id=\"T_367ac_row0_col1\" class=\"data row0 col1\" >296</td>\n",
       "                        <td id=\"T_367ac_row0_col2\" class=\"data row0 col2\" >5.000000</td>\n",
       "                        <td id=\"T_367ac_row0_col3\" class=\"data row0 col3\" >1147880044</td>\n",
       "            </tr>\n",
       "            <tr>\n",
       "                        <th id=\"T_367ac_level0_row1\" class=\"row_heading level0 row1\" >1</th>\n",
       "                        <td id=\"T_367ac_row1_col0\" class=\"data row1 col0\" >1</td>\n",
       "                        <td id=\"T_367ac_row1_col1\" class=\"data row1 col1\" >306</td>\n",
       "                        <td id=\"T_367ac_row1_col2\" class=\"data row1 col2\" >3.500000</td>\n",
       "                        <td id=\"T_367ac_row1_col3\" class=\"data row1 col3\" >1147868817</td>\n",
       "            </tr>\n",
       "            <tr>\n",
       "                        <th id=\"T_367ac_level0_row2\" class=\"row_heading level0 row2\" >2</th>\n",
       "                        <td id=\"T_367ac_row2_col0\" class=\"data row2 col0\" >1</td>\n",
       "                        <td id=\"T_367ac_row2_col1\" class=\"data row2 col1\" >307</td>\n",
       "                        <td id=\"T_367ac_row2_col2\" class=\"data row2 col2\" >5.000000</td>\n",
       "                        <td id=\"T_367ac_row2_col3\" class=\"data row2 col3\" >1147868828</td>\n",
       "            </tr>\n",
       "            <tr>\n",
       "                        <th id=\"T_367ac_level0_row3\" class=\"row_heading level0 row3\" >3</th>\n",
       "                        <td id=\"T_367ac_row3_col0\" class=\"data row3 col0\" >1</td>\n",
       "                        <td id=\"T_367ac_row3_col1\" class=\"data row3 col1\" >665</td>\n",
       "                        <td id=\"T_367ac_row3_col2\" class=\"data row3 col2\" >5.000000</td>\n",
       "                        <td id=\"T_367ac_row3_col3\" class=\"data row3 col3\" >1147878820</td>\n",
       "            </tr>\n",
       "            <tr>\n",
       "                        <th id=\"T_367ac_level0_row4\" class=\"row_heading level0 row4\" >4</th>\n",
       "                        <td id=\"T_367ac_row4_col0\" class=\"data row4 col0\" >1</td>\n",
       "                        <td id=\"T_367ac_row4_col1\" class=\"data row4 col1\" >899</td>\n",
       "                        <td id=\"T_367ac_row4_col2\" class=\"data row4 col2\" >3.500000</td>\n",
       "                        <td id=\"T_367ac_row4_col3\" class=\"data row4 col3\" >1147868510</td>\n",
       "            </tr>\n",
       "            <tr>\n",
       "                        <th id=\"T_367ac_level0_row5\" class=\"row_heading level0 row5\" >5</th>\n",
       "                        <td id=\"T_367ac_row5_col0\" class=\"data row5 col0\" >1</td>\n",
       "                        <td id=\"T_367ac_row5_col1\" class=\"data row5 col1\" >1088</td>\n",
       "                        <td id=\"T_367ac_row5_col2\" class=\"data row5 col2\" >4.000000</td>\n",
       "                        <td id=\"T_367ac_row5_col3\" class=\"data row5 col3\" >1147868495</td>\n",
       "            </tr>\n",
       "            <tr>\n",
       "                        <th id=\"T_367ac_level0_row6\" class=\"row_heading level0 row6\" >6</th>\n",
       "                        <td id=\"T_367ac_row6_col0\" class=\"data row6 col0\" >1</td>\n",
       "                        <td id=\"T_367ac_row6_col1\" class=\"data row6 col1\" >1175</td>\n",
       "                        <td id=\"T_367ac_row6_col2\" class=\"data row6 col2\" >3.500000</td>\n",
       "                        <td id=\"T_367ac_row6_col3\" class=\"data row6 col3\" >1147868826</td>\n",
       "            </tr>\n",
       "            <tr>\n",
       "                        <th id=\"T_367ac_level0_row7\" class=\"row_heading level0 row7\" >7</th>\n",
       "                        <td id=\"T_367ac_row7_col0\" class=\"data row7 col0\" >1</td>\n",
       "                        <td id=\"T_367ac_row7_col1\" class=\"data row7 col1\" >1217</td>\n",
       "                        <td id=\"T_367ac_row7_col2\" class=\"data row7 col2\" >3.500000</td>\n",
       "                        <td id=\"T_367ac_row7_col3\" class=\"data row7 col3\" >1147878326</td>\n",
       "            </tr>\n",
       "            <tr>\n",
       "                        <th id=\"T_367ac_level0_row8\" class=\"row_heading level0 row8\" >8</th>\n",
       "                        <td id=\"T_367ac_row8_col0\" class=\"data row8 col0\" >1</td>\n",
       "                        <td id=\"T_367ac_row8_col1\" class=\"data row8 col1\" >1237</td>\n",
       "                        <td id=\"T_367ac_row8_col2\" class=\"data row8 col2\" >5.000000</td>\n",
       "                        <td id=\"T_367ac_row8_col3\" class=\"data row8 col3\" >1147868839</td>\n",
       "            </tr>\n",
       "            <tr>\n",
       "                        <th id=\"T_367ac_level0_row9\" class=\"row_heading level0 row9\" >9</th>\n",
       "                        <td id=\"T_367ac_row9_col0\" class=\"data row9 col0\" >1</td>\n",
       "                        <td id=\"T_367ac_row9_col1\" class=\"data row9 col1\" >1250</td>\n",
       "                        <td id=\"T_367ac_row9_col2\" class=\"data row9 col2\" >4.000000</td>\n",
       "                        <td id=\"T_367ac_row9_col3\" class=\"data row9 col3\" >1147868414</td>\n",
       "            </tr>\n",
       "    </tbody></table></td></tr></table>"
      ],
      "text/plain": [
       "<IPython.core.display.HTML object>"
      ]
     },
     "metadata": {},
     "output_type": "display_data"
    }
   ],
   "source": [
    "grid_df_display(list_df = [titles, ratings], \n",
    "                list_df_name = ['Movie Attributes', 'Rating'],\n",
    "                list_number_of_data = [10, 10], row = 1, col = 2, fill = 'col')"
   ]
  },
  {
   "cell_type": "code",
   "execution_count": 4,
   "id": "159e6c44",
   "metadata": {
    "execution": {
     "iopub.execute_input": "2021-12-19T14:47:35.709611Z",
     "iopub.status.busy": "2021-12-19T14:47:35.708612Z",
     "iopub.status.idle": "2021-12-19T14:47:35.917603Z",
     "shell.execute_reply": "2021-12-19T14:47:35.915613Z",
     "shell.execute_reply.started": "2021-12-19T14:47:35.709611Z"
    },
    "tags": []
   },
   "outputs": [
    {
     "name": "stdout",
     "output_type": "stream",
     "text": [
      "<class 'pandas.core.frame.DataFrame'>\n",
      "RangeIndex: 62423 entries, 0 to 62422\n",
      "Data columns (total 3 columns):\n",
      " #   Column   Non-Null Count  Dtype \n",
      "---  ------   --------------  ----- \n",
      " 0   movieId  62423 non-null  int64 \n",
      " 1   title    62423 non-null  object\n",
      " 2   genres   62423 non-null  object\n",
      "dtypes: int64(1), object(2)\n",
      "memory usage: 1.4+ MB\n",
      "<class 'pandas.core.frame.DataFrame'>\n",
      "RangeIndex: 25000095 entries, 0 to 25000094\n",
      "Data columns (total 4 columns):\n",
      " #   Column     Dtype  \n",
      "---  ------     -----  \n",
      " 0   userId     int64  \n",
      " 1   movieId    int64  \n",
      " 2   rating     float64\n",
      " 3   timestamp  int64  \n",
      "dtypes: float64(1), int64(3)\n",
      "memory usage: 762.9 MB\n"
     ]
    }
   ],
   "source": [
    "titles.info()\n",
    "ratings.info()"
   ]
  },
  {
   "cell_type": "code",
   "execution_count": 5,
   "id": "322850ca",
   "metadata": {
    "execution": {
     "iopub.execute_input": "2021-12-19T14:47:35.930601Z",
     "iopub.status.busy": "2021-12-19T14:47:35.928602Z",
     "iopub.status.idle": "2021-12-19T14:47:36.008589Z",
     "shell.execute_reply": "2021-12-19T14:47:36.006590Z",
     "shell.execute_reply.started": "2021-12-19T14:47:35.930601Z"
    },
    "tags": []
   },
   "outputs": [
    {
     "name": "stdout",
     "output_type": "stream",
     "text": [
      "There is no NaN in dataframe.\n"
     ]
    }
   ],
   "source": [
    "check_nan_by_row(titles, titles.columns)"
   ]
  },
  {
   "cell_type": "code",
   "execution_count": 6,
   "id": "af5019fa",
   "metadata": {
    "execution": {
     "iopub.execute_input": "2021-12-19T14:47:36.017589Z",
     "iopub.status.busy": "2021-12-19T14:47:36.016597Z",
     "iopub.status.idle": "2021-12-19T14:47:41.418446Z",
     "shell.execute_reply": "2021-12-19T14:47:41.413446Z",
     "shell.execute_reply.started": "2021-12-19T14:47:36.016597Z"
    },
    "tags": []
   },
   "outputs": [
    {
     "name": "stdout",
     "output_type": "stream",
     "text": [
      "There is no NaN in dataframe.\n"
     ]
    }
   ],
   "source": [
    "check_nan_by_row(ratings, ratings.columns)"
   ]
  },
  {
   "cell_type": "code",
   "execution_count": 7,
   "id": "15c68523",
   "metadata": {
    "execution": {
     "iopub.execute_input": "2021-12-19T14:47:41.420443Z",
     "iopub.status.busy": "2021-12-19T14:47:41.419443Z",
     "iopub.status.idle": "2021-12-19T14:47:41.943769Z",
     "shell.execute_reply": "2021-12-19T14:47:41.942762Z",
     "shell.execute_reply.started": "2021-12-19T14:47:41.420443Z"
    },
    "tags": []
   },
   "outputs": [],
   "source": [
    "titles['year'] = titles['title'].str.extract('(\\d{4})(?=\\))').astype(float)\n",
    "titles = titles.drop(titles.query(\"year!=year\").index).reset_index(drop=True)\n",
    "titles = titles.query(\"year>=2014\")\n",
    "titles = titles.sample(frac=1, replace=False, random_state=2021).reset_index(drop=True)"
   ]
  },
  {
   "cell_type": "code",
   "execution_count": 8,
   "id": "c79fa5c8",
   "metadata": {
    "execution": {
     "iopub.execute_input": "2021-12-19T14:47:41.945787Z",
     "iopub.status.busy": "2021-12-19T14:47:41.945787Z",
     "iopub.status.idle": "2021-12-19T14:47:42.020732Z",
     "shell.execute_reply": "2021-12-19T14:47:42.019733Z",
     "shell.execute_reply.started": "2021-12-19T14:47:41.945787Z"
    },
    "tags": []
   },
   "outputs": [
    {
     "data": {
      "text/html": [
       "<div>\n",
       "<style scoped>\n",
       "    .dataframe tbody tr th:only-of-type {\n",
       "        vertical-align: middle;\n",
       "    }\n",
       "\n",
       "    .dataframe tbody tr th {\n",
       "        vertical-align: top;\n",
       "    }\n",
       "\n",
       "    .dataframe thead th {\n",
       "        text-align: right;\n",
       "    }\n",
       "</style>\n",
       "<table border=\"1\" class=\"dataframe\">\n",
       "  <thead>\n",
       "    <tr style=\"text-align: right;\">\n",
       "      <th></th>\n",
       "      <th>movieId</th>\n",
       "      <th>title</th>\n",
       "      <th>genres</th>\n",
       "      <th>year</th>\n",
       "    </tr>\n",
       "  </thead>\n",
       "  <tbody>\n",
       "    <tr>\n",
       "      <th>0</th>\n",
       "      <td>166369</td>\n",
       "      <td>Sour Grapes (2016)</td>\n",
       "      <td>Documentary</td>\n",
       "      <td>2016.0</td>\n",
       "    </tr>\n",
       "    <tr>\n",
       "      <th>1</th>\n",
       "      <td>193253</td>\n",
       "      <td>Active Measures (2018)</td>\n",
       "      <td>Documentary</td>\n",
       "      <td>2018.0</td>\n",
       "    </tr>\n",
       "    <tr>\n",
       "      <th>2</th>\n",
       "      <td>196805</td>\n",
       "      <td>Close Range Love (2014)</td>\n",
       "      <td>Drama|Romance</td>\n",
       "      <td>2014.0</td>\n",
       "    </tr>\n",
       "    <tr>\n",
       "      <th>3</th>\n",
       "      <td>192757</td>\n",
       "      <td>As Seen by the Rest (2014)</td>\n",
       "      <td>Drama|Romance|Thriller</td>\n",
       "      <td>2014.0</td>\n",
       "    </tr>\n",
       "    <tr>\n",
       "      <th>4</th>\n",
       "      <td>176343</td>\n",
       "      <td>A Movie Life (2017)</td>\n",
       "      <td>Drama</td>\n",
       "      <td>2017.0</td>\n",
       "    </tr>\n",
       "    <tr>\n",
       "      <th>...</th>\n",
       "      <td>...</td>\n",
       "      <td>...</td>\n",
       "      <td>...</td>\n",
       "      <td>...</td>\n",
       "    </tr>\n",
       "    <tr>\n",
       "      <th>12804</th>\n",
       "      <td>151319</td>\n",
       "      <td>Notias (2016)</td>\n",
       "      <td>Comedy|Drama</td>\n",
       "      <td>2016.0</td>\n",
       "    </tr>\n",
       "    <tr>\n",
       "      <th>12805</th>\n",
       "      <td>133945</td>\n",
       "      <td>Deep Web (2015)</td>\n",
       "      <td>Documentary</td>\n",
       "      <td>2015.0</td>\n",
       "    </tr>\n",
       "    <tr>\n",
       "      <th>12806</th>\n",
       "      <td>175915</td>\n",
       "      <td>Między nami dobrze jest (2014)</td>\n",
       "      <td>(no genres listed)</td>\n",
       "      <td>2014.0</td>\n",
       "    </tr>\n",
       "    <tr>\n",
       "      <th>12807</th>\n",
       "      <td>202273</td>\n",
       "      <td>The Challenger Disaster (2019)</td>\n",
       "      <td>Drama</td>\n",
       "      <td>2019.0</td>\n",
       "    </tr>\n",
       "    <tr>\n",
       "      <th>12808</th>\n",
       "      <td>192257</td>\n",
       "      <td>Destiny: The Tale of Kamakura (2017)</td>\n",
       "      <td>Drama|Mystery</td>\n",
       "      <td>2017.0</td>\n",
       "    </tr>\n",
       "  </tbody>\n",
       "</table>\n",
       "<p>12809 rows × 4 columns</p>\n",
       "</div>"
      ],
      "text/plain": [
       "       movieId                                 title                  genres  \\\n",
       "0       166369                    Sour Grapes (2016)             Documentary   \n",
       "1       193253                Active Measures (2018)             Documentary   \n",
       "2       196805               Close Range Love (2014)           Drama|Romance   \n",
       "3       192757            As Seen by the Rest (2014)  Drama|Romance|Thriller   \n",
       "4       176343                   A Movie Life (2017)                   Drama   \n",
       "...        ...                                   ...                     ...   \n",
       "12804   151319                         Notias (2016)            Comedy|Drama   \n",
       "12805   133945                       Deep Web (2015)             Documentary   \n",
       "12806   175915        Między nami dobrze jest (2014)      (no genres listed)   \n",
       "12807   202273        The Challenger Disaster (2019)                   Drama   \n",
       "12808   192257  Destiny: The Tale of Kamakura (2017)           Drama|Mystery   \n",
       "\n",
       "         year  \n",
       "0      2016.0  \n",
       "1      2018.0  \n",
       "2      2014.0  \n",
       "3      2014.0  \n",
       "4      2017.0  \n",
       "...       ...  \n",
       "12804  2016.0  \n",
       "12805  2015.0  \n",
       "12806  2014.0  \n",
       "12807  2019.0  \n",
       "12808  2017.0  \n",
       "\n",
       "[12809 rows x 4 columns]"
      ]
     },
     "execution_count": 8,
     "metadata": {},
     "output_type": "execute_result"
    }
   ],
   "source": [
    "titles"
   ]
  },
  {
   "cell_type": "markdown",
   "id": "167a60ea",
   "metadata": {
    "execution": {
     "iopub.execute_input": "2021-12-19T03:46:57.728824Z",
     "iopub.status.busy": "2021-12-19T03:46:57.727825Z",
     "iopub.status.idle": "2021-12-19T03:46:57.791814Z",
     "shell.execute_reply": "2021-12-19T03:46:57.787815Z",
     "shell.execute_reply.started": "2021-12-19T03:46:57.728824Z"
    }
   },
   "source": [
    "## Similarity\n",
    "### Pearson Correlation Coefficient\n",
    "${\\displaystyle r={\\frac {\\sum \\limits _{i=1}^{n}(X_{i}-{\\overline {X}})(Y_{i}-{\\overline {Y}})}{{\\sqrt {\\sum \\limits _{i=1}^{n}(X_{i}-{\\overline {X}})^{2}}}{\\sqrt {\\sum \\limits _{i=1}^{n}(Y_{i}-{\\overline {Y}})^{2}}}}}}$\n",
    "\n",
    "### Cosine Similarity\n",
    "${\\text{similarity}}=\\cos(\\theta )={A\\cdot B \\over \\|A\\|\\|B\\|}={\\frac  {\\sum \\limits _{{i=1}}^{{n}}{A_{i}\\times B_{i}}}{{\\sqrt  {\\sum \\limits _{{i=1}}^{{n}}{(A_{i})^{2}}}}\\times {\\sqrt  {\\sum \\limits _{{i=1}}^{{n}}{(B_{i})^{2}}}}}}$\n",
    "\n",
    "### Adjusted Cosine Similarity\n",
    "${\\displaystyle sim(i,j) = {\\frac {\\sum \\limits _{u \\in U}(R_{u,i}-{\\overline {R}_u})(R_{u,j}-{\\overline {R}_u})}{{\\sqrt {\\sum \\limits _{u \\in U}(R_{u,i}-{\\overline {R}_u})^{2}}}{\\sqrt {\\sum \\limits _{i=1}^{n}(R_{u,i}-{\\overline {R}_u})^{2}}}}}}$"
   ]
  },
  {
   "cell_type": "markdown",
   "id": "1fbe48a1",
   "metadata": {},
   "source": [
    "#### 因為評分高低是一個重要因子，所以不考慮一般的 `Cosine Similarity`，而是使用 `Adjusted Cosine Similarity`"
   ]
  },
  {
   "cell_type": "code",
   "execution_count": 25,
   "id": "3eda368d",
   "metadata": {
    "execution": {
     "iopub.execute_input": "2021-12-19T14:47:42.324697Z",
     "iopub.status.busy": "2021-12-19T14:47:42.323696Z",
     "iopub.status.idle": "2021-12-19T14:47:42.364689Z",
     "shell.execute_reply": "2021-12-19T14:47:42.362689Z",
     "shell.execute_reply.started": "2021-12-19T14:47:42.324697Z"
    },
    "tags": []
   },
   "outputs": [],
   "source": [
    "def adjusted_cosine(X, Y, N):\n",
    "    \"\"\"\n",
    "    Considering the rows of X (and Y=X) as vectors, compute the\n",
    "    distance matrix between each pair of vectors after normalize or adjust\n",
    "    the vector using the N vector. N vector contains the mean of the values\n",
    "    of each feature vector from X and Y.\n",
    "    This correlation implementation is equivalent to the cosine similarity\n",
    "    since the data it receives is assumed to be centered -- mean is 0. The\n",
    "    correlation may be interpreted as the cosine of the angle between the two\n",
    "    vectors defined by the users' preference values.\n",
    "    Parameters\n",
    "    ----------\n",
    "    X : {array-like, sparse matrix}, shape = [n_samples_1, n_features]\n",
    "    Y : {array-like, sparse matrix}, shape = [n_samples_2, n_features]\n",
    "    N: {array-like, sparse matrix}, shape = [n_samples_3, n_features]\n",
    "    Returns\n",
    "    -------\n",
    "    distances : {array, sparse matrix}, shape = [n_samples_1, n_samples_2]\n",
    "    Examples\n",
    "    --------\n",
    "    >>> from crab.metrics.pairwise import adjusted_cosine\n",
    "    >>> X = [[1.0, 5.0, 4.0]]\n",
    "    >>> Y = [[2.0, 5.0, 5.0]]\n",
    "    >>> N = [[3.0, 3.5, 4.0]]\n",
    "    >>> # distance between rows of X\n",
    "    >>> adjusted_cosine(X, X, N)\n",
    "    array([[ 1.]])\n",
    "    >>> adjusted_cosine(X, Y, N)\n",
    "    array([[ 0.82462113]])\n",
    "    \"\"\"   \n",
    "\n",
    "    if X is Y:\n",
    "        X = Y = np.asanyarray(X)\n",
    "    else:\n",
    "        X = np.asanyarray(X)\n",
    "        Y = np.asanyarray(Y)\n",
    "\n",
    "    if X.shape[1] != Y.shape[1] != N.shape[1]:\n",
    "        raise ValueError(\"Incompatible dimension for X, Y and N matrices\")\n",
    "\n",
    "    X = X - N\n",
    "    Y = Y - N\n",
    "    # find index which has nan value in X or Y, and remove it\n",
    "    no_need_index_li = list(set(np.argwhere(np.isnan(X[0])).flatten().tolist() + np.argwhere(np.isnan(Y[0])).flatten().tolist()))\n",
    "    X = np.array([np.delete(X, no_need_index_li)])\n",
    "    Y = np.array([np.delete(Y, no_need_index_li)])\n",
    "    \n",
    "    \n",
    "    XY = 1 - ssd.cdist(X, Y, 'cosine')\n",
    "\n",
    "    return XY"
   ]
  },
  {
   "cell_type": "code",
   "execution_count": 26,
   "id": "23c60e0b",
   "metadata": {
    "execution": {
     "iopub.execute_input": "2021-12-19T14:47:42.368689Z",
     "iopub.status.busy": "2021-12-19T14:47:42.367695Z",
     "iopub.status.idle": "2021-12-19T14:47:42.394685Z",
     "shell.execute_reply": "2021-12-19T14:47:42.392685Z",
     "shell.execute_reply.started": "2021-12-19T14:47:42.368689Z"
    },
    "tags": []
   },
   "outputs": [
    {
     "data": {
      "text/plain": [
       "array([[0.82462113]])"
      ]
     },
     "execution_count": 26,
     "metadata": {},
     "output_type": "execute_result"
    }
   ],
   "source": [
    "# Check function result\n",
    "X = [[1.0, 5.0, 4.0]]\n",
    "Y = [[2.0, 5.0, 5.0]]\n",
    "N = [[3.0, 3.5, 4.0]]\n",
    "adjusted_cosine(X, Y, N)"
   ]
  },
  {
   "cell_type": "code",
   "execution_count": 27,
   "id": "c7bdc587",
   "metadata": {
    "execution": {
     "iopub.execute_input": "2021-12-19T14:47:42.399684Z",
     "iopub.status.busy": "2021-12-19T14:47:42.397685Z",
     "iopub.status.idle": "2021-12-19T14:48:07.868482Z",
     "shell.execute_reply": "2021-12-19T14:48:07.859483Z",
     "shell.execute_reply.started": "2021-12-19T14:47:42.398689Z"
    },
    "tags": []
   },
   "outputs": [],
   "source": [
    "# calculate adjusted ratings\n",
    "rating_mean= ratings.groupby(['userId'], as_index = False, sort = False).mean().rename(columns = {'rating': 'rating_mean'})\n",
    "rating_mean = rating_mean[['userId','rating_mean']]\n",
    "adjusted_ratings = pd.merge(ratings, rating_mean, on = 'userId', how = 'left', sort = False)\n",
    "data = titles.merge(adjusted_ratings, on='movieId', how='left').reset_index(drop=True)"
   ]
  },
  {
   "cell_type": "code",
   "execution_count": 28,
   "id": "71706a76",
   "metadata": {
    "execution": {
     "iopub.execute_input": "2021-12-19T14:48:07.910477Z",
     "iopub.status.busy": "2021-12-19T14:48:07.909477Z",
     "iopub.status.idle": "2021-12-19T14:50:42.151353Z",
     "shell.execute_reply": "2021-12-19T14:50:42.051369Z",
     "shell.execute_reply.started": "2021-12-19T14:48:07.910477Z"
    },
    "tags": []
   },
   "outputs": [],
   "source": [
    "movies = pd.crosstab(data['userId'], data['title'], values=data['rating'], aggfunc='sum')\n",
    "movies = movies.dropna(axis='columns', thresh=2)"
   ]
  },
  {
   "cell_type": "code",
   "execution_count": 29,
   "id": "f701a98d",
   "metadata": {
    "execution": {
     "iopub.execute_input": "2021-12-19T14:50:42.212345Z",
     "iopub.status.busy": "2021-12-19T14:50:42.211344Z",
     "iopub.status.idle": "2021-12-19T14:50:54.046460Z",
     "shell.execute_reply": "2021-12-19T14:50:54.045461Z",
     "shell.execute_reply.started": "2021-12-19T14:50:42.212345Z"
    },
    "tags": []
   },
   "outputs": [],
   "source": [
    "usr_rating_mean = adjusted_ratings[['userId', 'rating_mean']]\n",
    "del adjusted_ratings\n",
    "usr_rating_mean = usr_rating_mean.drop_duplicates(subset = ['userId', 'rating_mean']).sort_values('userId')\n",
    "usr_rating_mean = usr_rating_mean[usr_rating_mean['userId'].isin(movies.index)].reset_index(drop=True)\n",
    "usr_rating_mean = usr_rating_mean.set_index('userId')"
   ]
  },
  {
   "cell_type": "code",
   "execution_count": 30,
   "id": "e8638074",
   "metadata": {
    "execution": {
     "iopub.execute_input": "2021-12-19T14:50:54.053458Z",
     "iopub.status.busy": "2021-12-19T14:50:54.052459Z",
     "iopub.status.idle": "2021-12-19T14:50:54.311419Z",
     "shell.execute_reply": "2021-12-19T14:50:54.310419Z",
     "shell.execute_reply.started": "2021-12-19T14:50:54.053458Z"
    },
    "tags": []
   },
   "outputs": [
    {
     "data": {
      "text/html": [
       "<div>\n",
       "<style scoped>\n",
       "    .dataframe tbody tr th:only-of-type {\n",
       "        vertical-align: middle;\n",
       "    }\n",
       "\n",
       "    .dataframe tbody tr th {\n",
       "        vertical-align: top;\n",
       "    }\n",
       "\n",
       "    .dataframe thead th {\n",
       "        text-align: right;\n",
       "    }\n",
       "</style>\n",
       "<table border=\"1\" class=\"dataframe\">\n",
       "  <thead>\n",
       "    <tr style=\"text-align: right;\">\n",
       "      <th>title</th>\n",
       "      <th>#Captured (2017)</th>\n",
       "      <th>#Female Pleasure (2018)</th>\n",
       "      <th>#FollowMe (2019)</th>\n",
       "      <th>#Horror (2015)</th>\n",
       "      <th>#SCREAMERS (2016)</th>\n",
       "      <th>#Stuck (2014)</th>\n",
       "      <th>#realityhigh (2017)</th>\n",
       "      <th>'71 (2014)</th>\n",
       "      <th>'Tis the Season for Love (2015)</th>\n",
       "      <th>(Dis)Honesty: The Truth About Lies (2015)</th>\n",
       "      <th>...</th>\n",
       "      <th>Τα Δάκρυα του Βουνού (2019)</th>\n",
       "      <th>Бабушка лёгкого поведения (2017)</th>\n",
       "      <th>Газгольдер: Фильм (2014)</th>\n",
       "      <th>Каникулы президента (2018)</th>\n",
       "      <th>Крепость: щитом и мечом (2015)</th>\n",
       "      <th>Мафия (2016)</th>\n",
       "      <th>Напарник (2017)</th>\n",
       "      <th>Он вам не Димон (2017)</th>\n",
       "      <th>Я худею (2018)</th>\n",
       "      <th>أهواك (2015)</th>\n",
       "    </tr>\n",
       "    <tr>\n",
       "      <th>userId</th>\n",
       "      <th></th>\n",
       "      <th></th>\n",
       "      <th></th>\n",
       "      <th></th>\n",
       "      <th></th>\n",
       "      <th></th>\n",
       "      <th></th>\n",
       "      <th></th>\n",
       "      <th></th>\n",
       "      <th></th>\n",
       "      <th></th>\n",
       "      <th></th>\n",
       "      <th></th>\n",
       "      <th></th>\n",
       "      <th></th>\n",
       "      <th></th>\n",
       "      <th></th>\n",
       "      <th></th>\n",
       "      <th></th>\n",
       "      <th></th>\n",
       "      <th></th>\n",
       "    </tr>\n",
       "  </thead>\n",
       "  <tbody>\n",
       "    <tr>\n",
       "      <th>3.0</th>\n",
       "      <td>NaN</td>\n",
       "      <td>NaN</td>\n",
       "      <td>NaN</td>\n",
       "      <td>NaN</td>\n",
       "      <td>NaN</td>\n",
       "      <td>NaN</td>\n",
       "      <td>NaN</td>\n",
       "      <td>NaN</td>\n",
       "      <td>NaN</td>\n",
       "      <td>NaN</td>\n",
       "      <td>...</td>\n",
       "      <td>NaN</td>\n",
       "      <td>NaN</td>\n",
       "      <td>NaN</td>\n",
       "      <td>NaN</td>\n",
       "      <td>NaN</td>\n",
       "      <td>NaN</td>\n",
       "      <td>NaN</td>\n",
       "      <td>NaN</td>\n",
       "      <td>NaN</td>\n",
       "      <td>NaN</td>\n",
       "    </tr>\n",
       "    <tr>\n",
       "      <th>4.0</th>\n",
       "      <td>NaN</td>\n",
       "      <td>NaN</td>\n",
       "      <td>NaN</td>\n",
       "      <td>NaN</td>\n",
       "      <td>NaN</td>\n",
       "      <td>NaN</td>\n",
       "      <td>NaN</td>\n",
       "      <td>NaN</td>\n",
       "      <td>NaN</td>\n",
       "      <td>NaN</td>\n",
       "      <td>...</td>\n",
       "      <td>NaN</td>\n",
       "      <td>NaN</td>\n",
       "      <td>NaN</td>\n",
       "      <td>NaN</td>\n",
       "      <td>NaN</td>\n",
       "      <td>NaN</td>\n",
       "      <td>NaN</td>\n",
       "      <td>NaN</td>\n",
       "      <td>NaN</td>\n",
       "      <td>NaN</td>\n",
       "    </tr>\n",
       "    <tr>\n",
       "      <th>14.0</th>\n",
       "      <td>NaN</td>\n",
       "      <td>NaN</td>\n",
       "      <td>NaN</td>\n",
       "      <td>NaN</td>\n",
       "      <td>NaN</td>\n",
       "      <td>NaN</td>\n",
       "      <td>NaN</td>\n",
       "      <td>NaN</td>\n",
       "      <td>NaN</td>\n",
       "      <td>NaN</td>\n",
       "      <td>...</td>\n",
       "      <td>NaN</td>\n",
       "      <td>NaN</td>\n",
       "      <td>NaN</td>\n",
       "      <td>NaN</td>\n",
       "      <td>NaN</td>\n",
       "      <td>NaN</td>\n",
       "      <td>NaN</td>\n",
       "      <td>NaN</td>\n",
       "      <td>NaN</td>\n",
       "      <td>NaN</td>\n",
       "    </tr>\n",
       "    <tr>\n",
       "      <th>17.0</th>\n",
       "      <td>NaN</td>\n",
       "      <td>NaN</td>\n",
       "      <td>NaN</td>\n",
       "      <td>NaN</td>\n",
       "      <td>NaN</td>\n",
       "      <td>NaN</td>\n",
       "      <td>NaN</td>\n",
       "      <td>NaN</td>\n",
       "      <td>NaN</td>\n",
       "      <td>NaN</td>\n",
       "      <td>...</td>\n",
       "      <td>NaN</td>\n",
       "      <td>NaN</td>\n",
       "      <td>NaN</td>\n",
       "      <td>NaN</td>\n",
       "      <td>NaN</td>\n",
       "      <td>NaN</td>\n",
       "      <td>NaN</td>\n",
       "      <td>NaN</td>\n",
       "      <td>NaN</td>\n",
       "      <td>NaN</td>\n",
       "    </tr>\n",
       "    <tr>\n",
       "      <th>19.0</th>\n",
       "      <td>NaN</td>\n",
       "      <td>NaN</td>\n",
       "      <td>NaN</td>\n",
       "      <td>NaN</td>\n",
       "      <td>NaN</td>\n",
       "      <td>NaN</td>\n",
       "      <td>NaN</td>\n",
       "      <td>NaN</td>\n",
       "      <td>NaN</td>\n",
       "      <td>NaN</td>\n",
       "      <td>...</td>\n",
       "      <td>NaN</td>\n",
       "      <td>NaN</td>\n",
       "      <td>NaN</td>\n",
       "      <td>NaN</td>\n",
       "      <td>NaN</td>\n",
       "      <td>NaN</td>\n",
       "      <td>NaN</td>\n",
       "      <td>NaN</td>\n",
       "      <td>NaN</td>\n",
       "      <td>NaN</td>\n",
       "    </tr>\n",
       "  </tbody>\n",
       "</table>\n",
       "<p>5 rows × 10338 columns</p>\n",
       "</div>"
      ],
      "text/plain": [
       "title   #Captured (2017)  #Female Pleasure (2018)  #FollowMe (2019)  \\\n",
       "userId                                                                \n",
       "3.0                  NaN                      NaN               NaN   \n",
       "4.0                  NaN                      NaN               NaN   \n",
       "14.0                 NaN                      NaN               NaN   \n",
       "17.0                 NaN                      NaN               NaN   \n",
       "19.0                 NaN                      NaN               NaN   \n",
       "\n",
       "title   #Horror (2015)  #SCREAMERS (2016)  #Stuck (2014)  #realityhigh (2017)  \\\n",
       "userId                                                                          \n",
       "3.0                NaN                NaN            NaN                  NaN   \n",
       "4.0                NaN                NaN            NaN                  NaN   \n",
       "14.0               NaN                NaN            NaN                  NaN   \n",
       "17.0               NaN                NaN            NaN                  NaN   \n",
       "19.0               NaN                NaN            NaN                  NaN   \n",
       "\n",
       "title   '71 (2014)  'Tis the Season for Love (2015)  \\\n",
       "userId                                                \n",
       "3.0            NaN                              NaN   \n",
       "4.0            NaN                              NaN   \n",
       "14.0           NaN                              NaN   \n",
       "17.0           NaN                              NaN   \n",
       "19.0           NaN                              NaN   \n",
       "\n",
       "title   (Dis)Honesty: The Truth About Lies (2015)  ...  \\\n",
       "userId                                             ...   \n",
       "3.0                                           NaN  ...   \n",
       "4.0                                           NaN  ...   \n",
       "14.0                                          NaN  ...   \n",
       "17.0                                          NaN  ...   \n",
       "19.0                                          NaN  ...   \n",
       "\n",
       "title   Τα Δάκρυα του Βουνού (2019)  Бабушка лёгкого поведения (2017)  \\\n",
       "userId                                                                  \n",
       "3.0                             NaN                               NaN   \n",
       "4.0                             NaN                               NaN   \n",
       "14.0                            NaN                               NaN   \n",
       "17.0                            NaN                               NaN   \n",
       "19.0                            NaN                               NaN   \n",
       "\n",
       "title   Газгольдер: Фильм (2014)  Каникулы президента (2018)  \\\n",
       "userId                                                         \n",
       "3.0                          NaN                         NaN   \n",
       "4.0                          NaN                         NaN   \n",
       "14.0                         NaN                         NaN   \n",
       "17.0                         NaN                         NaN   \n",
       "19.0                         NaN                         NaN   \n",
       "\n",
       "title   Крепость: щитом и мечом (2015)  Мафия (2016)  Напарник (2017)  \\\n",
       "userId                                                                  \n",
       "3.0                                NaN           NaN              NaN   \n",
       "4.0                                NaN           NaN              NaN   \n",
       "14.0                               NaN           NaN              NaN   \n",
       "17.0                               NaN           NaN              NaN   \n",
       "19.0                               NaN           NaN              NaN   \n",
       "\n",
       "title   Он вам не Димон (2017)  Я худею (2018)  أهواك (2015)  \n",
       "userId                                                        \n",
       "3.0                        NaN             NaN           NaN  \n",
       "4.0                        NaN             NaN           NaN  \n",
       "14.0                       NaN             NaN           NaN  \n",
       "17.0                       NaN             NaN           NaN  \n",
       "19.0                       NaN             NaN           NaN  \n",
       "\n",
       "[5 rows x 10338 columns]"
      ]
     },
     "metadata": {},
     "output_type": "display_data"
    },
    {
     "data": {
      "text/html": [
       "<div>\n",
       "<style scoped>\n",
       "    .dataframe tbody tr th:only-of-type {\n",
       "        vertical-align: middle;\n",
       "    }\n",
       "\n",
       "    .dataframe tbody tr th {\n",
       "        vertical-align: top;\n",
       "    }\n",
       "\n",
       "    .dataframe thead th {\n",
       "        text-align: right;\n",
       "    }\n",
       "</style>\n",
       "<table border=\"1\" class=\"dataframe\">\n",
       "  <thead>\n",
       "    <tr style=\"text-align: right;\">\n",
       "      <th></th>\n",
       "      <th>rating_mean</th>\n",
       "    </tr>\n",
       "    <tr>\n",
       "      <th>userId</th>\n",
       "      <th></th>\n",
       "    </tr>\n",
       "  </thead>\n",
       "  <tbody>\n",
       "    <tr>\n",
       "      <th>3</th>\n",
       "      <td>3.697409</td>\n",
       "    </tr>\n",
       "    <tr>\n",
       "      <th>4</th>\n",
       "      <td>3.378099</td>\n",
       "    </tr>\n",
       "    <tr>\n",
       "      <th>14</th>\n",
       "      <td>4.596774</td>\n",
       "    </tr>\n",
       "    <tr>\n",
       "      <th>17</th>\n",
       "      <td>3.655172</td>\n",
       "    </tr>\n",
       "    <tr>\n",
       "      <th>19</th>\n",
       "      <td>3.423581</td>\n",
       "    </tr>\n",
       "  </tbody>\n",
       "</table>\n",
       "</div>"
      ],
      "text/plain": [
       "        rating_mean\n",
       "userId             \n",
       "3          3.697409\n",
       "4          3.378099\n",
       "14         4.596774\n",
       "17         3.655172\n",
       "19         3.423581"
      ]
     },
     "metadata": {},
     "output_type": "display_data"
    }
   ],
   "source": [
    "display(movies.head(), usr_rating_mean.head())"
   ]
  },
  {
   "cell_type": "code",
   "execution_count": 31,
   "id": "fd0b469d",
   "metadata": {
    "execution": {
     "iopub.execute_input": "2021-12-19T14:50:54.314419Z",
     "iopub.status.busy": "2021-12-19T14:50:54.314419Z",
     "iopub.status.idle": "2021-12-19T14:50:54.648367Z",
     "shell.execute_reply": "2021-12-19T14:50:54.647370Z",
     "shell.execute_reply.started": "2021-12-19T14:50:54.314419Z"
    },
    "tags": []
   },
   "outputs": [],
   "source": [
    "if sum( (movies.index == usr_rating_mean.index) != 1 ) !=0:\n",
    "    raise ValueError"
   ]
  },
  {
   "cell_type": "markdown",
   "id": "829f0c3d",
   "metadata": {},
   "source": [
    "### 使用者正回饋物品集合對其他物品的相似度"
   ]
  },
  {
   "cell_type": "code",
   "execution_count": 32,
   "id": "539c03b3",
   "metadata": {
    "execution": {
     "iopub.execute_input": "2021-12-19T14:50:54.651368Z",
     "iopub.status.busy": "2021-12-19T14:50:54.650367Z",
     "iopub.status.idle": "2021-12-19T14:50:54.679362Z",
     "shell.execute_reply": "2021-12-19T14:50:54.678362Z",
     "shell.execute_reply.started": "2021-12-19T14:50:54.651368Z"
    },
    "tags": []
   },
   "outputs": [],
   "source": [
    "# 我的正回饋電影\n",
    "user_input = ['12 Gifts of Christmas (2015)', 'Interstellar (2014)', 'Arrival (2016)']\n",
    "# 回饋分數\n",
    "score = [7, 9, 8]"
   ]
  },
  {
   "cell_type": "code",
   "execution_count": 34,
   "id": "c4a87e82",
   "metadata": {
    "execution": {
     "iopub.execute_input": "2021-12-19T14:50:54.702359Z",
     "iopub.status.busy": "2021-12-19T14:50:54.702359Z",
     "iopub.status.idle": "2021-12-19T15:29:26.711522Z",
     "shell.execute_reply": "2021-12-19T15:29:26.709655Z",
     "shell.execute_reply.started": "2021-12-19T14:50:54.702359Z"
    },
    "tags": []
   },
   "outputs": [
    {
     "data": {
      "application/vnd.jupyter.widget-view+json": {
       "model_id": "f92238405c644e79b64656265fbe78f8",
       "version_major": 2,
       "version_minor": 0
      },
      "text/plain": [
       "  0%|          | 0/3 [00:00<?, ?it/s]"
      ]
     },
     "metadata": {},
     "output_type": "display_data"
    },
    {
     "data": {
      "application/vnd.jupyter.widget-view+json": {
       "model_id": "5951b075783b4f7db34cb8db0204ca12",
       "version_major": 2,
       "version_minor": 0
      },
      "text/plain": [
       "  0%|          | 0/10338 [00:00<?, ?it/s]"
      ]
     },
     "metadata": {},
     "output_type": "display_data"
    },
    {
     "data": {
      "application/vnd.jupyter.widget-view+json": {
       "model_id": "ff2ce1ddea794bef86f4bf20a83fa8a3",
       "version_major": 2,
       "version_minor": 0
      },
      "text/plain": [
       "  0%|          | 0/10338 [00:00<?, ?it/s]"
      ]
     },
     "metadata": {},
     "output_type": "display_data"
    },
    {
     "data": {
      "application/vnd.jupyter.widget-view+json": {
       "model_id": "f4476eecb3e14b2faaef703b8aba6522",
       "version_major": 2,
       "version_minor": 0
      },
      "text/plain": [
       "  0%|          | 0/10338 [00:00<?, ?it/s]"
      ]
     },
     "metadata": {},
     "output_type": "display_data"
    }
   ],
   "source": [
    "rating_mean_series = usr_rating_mean['rating_mean']\n",
    "all_li = []\n",
    "for target_col_name in tqdm(user_input, position=1):\n",
    "    li = []\n",
    "    for col_name in tqdm(movies.columns, position=0):\n",
    "        X = [movies[target_col_name].tolist()]\n",
    "        Y = [movies[col_name].tolist()]\n",
    "        N = [rating_mean_series.tolist()]\n",
    "        if np.isnan(np.nansum(X[0])) or len(X[0])<2:\n",
    "            li.append(0)\n",
    "        else:\n",
    "            li.append( adjusted_cosine(X, Y, N)[0][0] )\n",
    "    all_li.append(li)"
   ]
  },
  {
   "cell_type": "code",
   "execution_count": 59,
   "id": "6247f2ed",
   "metadata": {
    "execution": {
     "iopub.execute_input": "2021-12-19T15:40:42.326771Z",
     "iopub.status.busy": "2021-12-19T15:40:42.325772Z",
     "iopub.status.idle": "2021-12-19T15:40:42.355767Z",
     "shell.execute_reply": "2021-12-19T15:40:42.352768Z",
     "shell.execute_reply.started": "2021-12-19T15:40:42.326771Z"
    },
    "tags": []
   },
   "outputs": [],
   "source": [
    "similarity_for_person = np.nan_to_num(np.array(all_li[0])*score[0]) + np.nan_to_num(np.array(all_li[1])*score[1]) + np.nan_to_num(np.array(all_li[2])*score[2])\n",
    "final_data = {'title': movies.columns.tolist(), 'adjusted_cosine_similarity': similarity_for_person}"
   ]
  },
  {
   "cell_type": "code",
   "execution_count": 60,
   "id": "57c67f72",
   "metadata": {
    "execution": {
     "iopub.execute_input": "2021-12-19T15:40:42.358769Z",
     "iopub.status.busy": "2021-12-19T15:40:42.358769Z",
     "iopub.status.idle": "2021-12-19T15:40:42.385764Z",
     "shell.execute_reply": "2021-12-19T15:40:42.383762Z",
     "shell.execute_reply.started": "2021-12-19T15:40:42.358769Z"
    },
    "tags": []
   },
   "outputs": [],
   "source": [
    "final_df = pd.DataFrame(final_data)"
   ]
  },
  {
   "cell_type": "code",
   "execution_count": 61,
   "id": "1ee8091a",
   "metadata": {
    "execution": {
     "iopub.execute_input": "2021-12-19T15:40:42.396763Z",
     "iopub.status.busy": "2021-12-19T15:40:42.395761Z",
     "iopub.status.idle": "2021-12-19T15:40:42.416760Z",
     "shell.execute_reply": "2021-12-19T15:40:42.415758Z",
     "shell.execute_reply.started": "2021-12-19T15:40:42.396763Z"
    },
    "tags": []
   },
   "outputs": [],
   "source": [
    "final_df = final_df.sort_values('adjusted_cosine_similarity', ascending=False)"
   ]
  },
  {
   "cell_type": "code",
   "execution_count": 62,
   "id": "85827120",
   "metadata": {
    "execution": {
     "iopub.execute_input": "2021-12-19T15:40:42.537403Z",
     "iopub.status.busy": "2021-12-19T15:40:42.536402Z",
     "iopub.status.idle": "2021-12-19T15:40:43.894281Z",
     "shell.execute_reply": "2021-12-19T15:40:43.893276Z",
     "shell.execute_reply.started": "2021-12-19T15:40:42.537403Z"
    },
    "tags": []
   },
   "outputs": [],
   "source": [
    "data_atr = data.groupby(['movieId', 'title', 'genres', 'year']).agg({'userId': 'nunique', 'rating': 'mean'}).\\\n",
    "rename(columns={'userId': 'rating_count', 'rating': 'average_renting'}).reset_index()"
   ]
  },
  {
   "cell_type": "code",
   "execution_count": 63,
   "id": "6af674cf",
   "metadata": {
    "execution": {
     "iopub.execute_input": "2021-12-19T15:40:43.896279Z",
     "iopub.status.busy": "2021-12-19T15:40:43.896279Z",
     "iopub.status.idle": "2021-12-19T15:40:43.942272Z",
     "shell.execute_reply": "2021-12-19T15:40:43.941294Z",
     "shell.execute_reply.started": "2021-12-19T15:40:43.896279Z"
    },
    "tags": []
   },
   "outputs": [
    {
     "data": {
      "text/html": [
       "<div>\n",
       "<style scoped>\n",
       "    .dataframe tbody tr th:only-of-type {\n",
       "        vertical-align: middle;\n",
       "    }\n",
       "\n",
       "    .dataframe tbody tr th {\n",
       "        vertical-align: top;\n",
       "    }\n",
       "\n",
       "    .dataframe thead th {\n",
       "        text-align: right;\n",
       "    }\n",
       "</style>\n",
       "<table border=\"1\" class=\"dataframe\">\n",
       "  <thead>\n",
       "    <tr style=\"text-align: right;\">\n",
       "      <th></th>\n",
       "      <th>movieId</th>\n",
       "      <th>title</th>\n",
       "      <th>genres</th>\n",
       "      <th>year</th>\n",
       "      <th>rating_count</th>\n",
       "      <th>average_renting</th>\n",
       "    </tr>\n",
       "  </thead>\n",
       "  <tbody>\n",
       "    <tr>\n",
       "      <th>0</th>\n",
       "      <td>107516</td>\n",
       "      <td>Punk's Dead: SLC Punk! 2 (2014)</td>\n",
       "      <td>Comedy</td>\n",
       "      <td>2014.0</td>\n",
       "      <td>14</td>\n",
       "      <td>2.392857</td>\n",
       "    </tr>\n",
       "    <tr>\n",
       "      <th>1</th>\n",
       "      <td>107769</td>\n",
       "      <td>Paranormal Activity: The Marked Ones (2014)</td>\n",
       "      <td>Horror|Thriller</td>\n",
       "      <td>2014.0</td>\n",
       "      <td>168</td>\n",
       "      <td>2.761905</td>\n",
       "    </tr>\n",
       "    <tr>\n",
       "      <th>2</th>\n",
       "      <td>107916</td>\n",
       "      <td>Yves Saint Laurent (2014)</td>\n",
       "      <td>Drama|Romance</td>\n",
       "      <td>2014.0</td>\n",
       "      <td>70</td>\n",
       "      <td>3.178571</td>\n",
       "    </tr>\n",
       "    <tr>\n",
       "      <th>3</th>\n",
       "      <td>108156</td>\n",
       "      <td>Ride Along (2014)</td>\n",
       "      <td>Action|Comedy</td>\n",
       "      <td>2014.0</td>\n",
       "      <td>531</td>\n",
       "      <td>3.181733</td>\n",
       "    </tr>\n",
       "    <tr>\n",
       "      <th>4</th>\n",
       "      <td>108188</td>\n",
       "      <td>Jack Ryan: Shadow Recruit (2014)</td>\n",
       "      <td>Action|Drama|Thriller|IMAX</td>\n",
       "      <td>2014.0</td>\n",
       "      <td>1003</td>\n",
       "      <td>3.227318</td>\n",
       "    </tr>\n",
       "    <tr>\n",
       "      <th>...</th>\n",
       "      <td>...</td>\n",
       "      <td>...</td>\n",
       "      <td>...</td>\n",
       "      <td>...</td>\n",
       "      <td>...</td>\n",
       "      <td>...</td>\n",
       "    </tr>\n",
       "    <tr>\n",
       "      <th>12804</th>\n",
       "      <td>209143</td>\n",
       "      <td>The Painting (2019)</td>\n",
       "      <td>Animation|Documentary</td>\n",
       "      <td>2019.0</td>\n",
       "      <td>1</td>\n",
       "      <td>1.000000</td>\n",
       "    </tr>\n",
       "    <tr>\n",
       "      <th>12805</th>\n",
       "      <td>209145</td>\n",
       "      <td>Liberté (2019)</td>\n",
       "      <td>Drama</td>\n",
       "      <td>2019.0</td>\n",
       "      <td>1</td>\n",
       "      <td>1.000000</td>\n",
       "    </tr>\n",
       "    <tr>\n",
       "      <th>12806</th>\n",
       "      <td>209151</td>\n",
       "      <td>Mao Zedong 1949 (2019)</td>\n",
       "      <td>(no genres listed)</td>\n",
       "      <td>2019.0</td>\n",
       "      <td>1</td>\n",
       "      <td>3.500000</td>\n",
       "    </tr>\n",
       "    <tr>\n",
       "      <th>12807</th>\n",
       "      <td>209157</td>\n",
       "      <td>We (2018)</td>\n",
       "      <td>Drama</td>\n",
       "      <td>2018.0</td>\n",
       "      <td>1</td>\n",
       "      <td>1.500000</td>\n",
       "    </tr>\n",
       "    <tr>\n",
       "      <th>12808</th>\n",
       "      <td>209163</td>\n",
       "      <td>Bad Poems (2018)</td>\n",
       "      <td>Comedy|Drama</td>\n",
       "      <td>2018.0</td>\n",
       "      <td>1</td>\n",
       "      <td>4.500000</td>\n",
       "    </tr>\n",
       "  </tbody>\n",
       "</table>\n",
       "<p>12809 rows × 6 columns</p>\n",
       "</div>"
      ],
      "text/plain": [
       "       movieId                                        title  \\\n",
       "0       107516              Punk's Dead: SLC Punk! 2 (2014)   \n",
       "1       107769  Paranormal Activity: The Marked Ones (2014)   \n",
       "2       107916                    Yves Saint Laurent (2014)   \n",
       "3       108156                            Ride Along (2014)   \n",
       "4       108188             Jack Ryan: Shadow Recruit (2014)   \n",
       "...        ...                                          ...   \n",
       "12804   209143                          The Painting (2019)   \n",
       "12805   209145                               Liberté (2019)   \n",
       "12806   209151                       Mao Zedong 1949 (2019)   \n",
       "12807   209157                                    We (2018)   \n",
       "12808   209163                             Bad Poems (2018)   \n",
       "\n",
       "                           genres    year  rating_count  average_renting  \n",
       "0                          Comedy  2014.0            14         2.392857  \n",
       "1                 Horror|Thriller  2014.0           168         2.761905  \n",
       "2                   Drama|Romance  2014.0            70         3.178571  \n",
       "3                   Action|Comedy  2014.0           531         3.181733  \n",
       "4      Action|Drama|Thriller|IMAX  2014.0          1003         3.227318  \n",
       "...                           ...     ...           ...              ...  \n",
       "12804       Animation|Documentary  2019.0             1         1.000000  \n",
       "12805                       Drama  2019.0             1         1.000000  \n",
       "12806          (no genres listed)  2019.0             1         3.500000  \n",
       "12807                       Drama  2018.0             1         1.500000  \n",
       "12808                Comedy|Drama  2018.0             1         4.500000  \n",
       "\n",
       "[12809 rows x 6 columns]"
      ]
     },
     "execution_count": 63,
     "metadata": {},
     "output_type": "execute_result"
    }
   ],
   "source": [
    "data_atr"
   ]
  },
  {
   "cell_type": "code",
   "execution_count": 64,
   "id": "24987bfe",
   "metadata": {
    "execution": {
     "iopub.execute_input": "2021-12-19T15:40:43.946272Z",
     "iopub.status.busy": "2021-12-19T15:40:43.945271Z",
     "iopub.status.idle": "2021-12-19T15:40:43.990268Z",
     "shell.execute_reply": "2021-12-19T15:40:43.989287Z",
     "shell.execute_reply.started": "2021-12-19T15:40:43.946272Z"
    },
    "tags": []
   },
   "outputs": [],
   "source": [
    "final_df = data_atr.merge(final_df, on='title', how='left').sort_values('adjusted_cosine_similarity', ascending=False).reset_index(drop=True)"
   ]
  },
  {
   "cell_type": "markdown",
   "id": "4ca5cd65",
   "metadata": {},
   "source": [
    "### Recommendation list"
   ]
  },
  {
   "cell_type": "code",
   "execution_count": 67,
   "id": "9b321aa2",
   "metadata": {
    "execution": {
     "iopub.execute_input": "2021-12-19T15:41:31.321026Z",
     "iopub.status.busy": "2021-12-19T15:41:31.320025Z",
     "iopub.status.idle": "2021-12-19T15:41:31.335026Z",
     "shell.execute_reply": "2021-12-19T15:41:31.333024Z",
     "shell.execute_reply.started": "2021-12-19T15:41:31.321026Z"
    }
   },
   "outputs": [
    {
     "data": {
      "text/plain": [
       "['12 Gifts of Christmas (2015)', 'Interstellar (2014)', 'Arrival (2016)']"
      ]
     },
     "execution_count": 67,
     "metadata": {},
     "output_type": "execute_result"
    }
   ],
   "source": [
    "user_input"
   ]
  },
  {
   "cell_type": "code",
   "execution_count": 65,
   "id": "73376b45",
   "metadata": {
    "execution": {
     "iopub.execute_input": "2021-12-19T15:40:44.323468Z",
     "iopub.status.busy": "2021-12-19T15:40:44.323468Z",
     "iopub.status.idle": "2021-12-19T15:40:44.367629Z",
     "shell.execute_reply": "2021-12-19T15:40:44.364623Z",
     "shell.execute_reply.started": "2021-12-19T15:40:44.323468Z"
    },
    "tags": []
   },
   "outputs": [
    {
     "data": {
      "text/html": [
       "<div>\n",
       "<style scoped>\n",
       "    .dataframe tbody tr th:only-of-type {\n",
       "        vertical-align: middle;\n",
       "    }\n",
       "\n",
       "    .dataframe tbody tr th {\n",
       "        vertical-align: top;\n",
       "    }\n",
       "\n",
       "    .dataframe thead th {\n",
       "        text-align: right;\n",
       "    }\n",
       "</style>\n",
       "<table border=\"1\" class=\"dataframe\">\n",
       "  <thead>\n",
       "    <tr style=\"text-align: right;\">\n",
       "      <th></th>\n",
       "      <th>movieId</th>\n",
       "      <th>title</th>\n",
       "      <th>genres</th>\n",
       "      <th>year</th>\n",
       "      <th>rating_count</th>\n",
       "      <th>average_renting</th>\n",
       "      <th>adjusted_cosine_similarity</th>\n",
       "    </tr>\n",
       "  </thead>\n",
       "  <tbody>\n",
       "    <tr>\n",
       "      <th>0</th>\n",
       "      <td>166195</td>\n",
       "      <td>The Submarine Kid (2016)</td>\n",
       "      <td>Drama</td>\n",
       "      <td>2016.0</td>\n",
       "      <td>4</td>\n",
       "      <td>4.375000</td>\n",
       "      <td>24.000000</td>\n",
       "    </tr>\n",
       "    <tr>\n",
       "      <th>1</th>\n",
       "      <td>122573</td>\n",
       "      <td>Expecting Amish (2014)</td>\n",
       "      <td>(no genres listed)</td>\n",
       "      <td>2014.0</td>\n",
       "      <td>5</td>\n",
       "      <td>2.900000</td>\n",
       "      <td>18.330584</td>\n",
       "    </tr>\n",
       "    <tr>\n",
       "      <th>2</th>\n",
       "      <td>165489</td>\n",
       "      <td>Ethel &amp; Ernest (2016)</td>\n",
       "      <td>(no genres listed)</td>\n",
       "      <td>2016.0</td>\n",
       "      <td>23</td>\n",
       "      <td>3.630435</td>\n",
       "      <td>17.177301</td>\n",
       "    </tr>\n",
       "    <tr>\n",
       "      <th>3</th>\n",
       "      <td>179997</td>\n",
       "      <td>Myosis (2014)</td>\n",
       "      <td>Animation|Drama|Sci-Fi</td>\n",
       "      <td>2014.0</td>\n",
       "      <td>2</td>\n",
       "      <td>3.000000</td>\n",
       "      <td>17.000000</td>\n",
       "    </tr>\n",
       "    <tr>\n",
       "      <th>4</th>\n",
       "      <td>203655</td>\n",
       "      <td>Queen of Spades: Through the Looking Glass (2019)</td>\n",
       "      <td>Horror|Thriller</td>\n",
       "      <td>2019.0</td>\n",
       "      <td>2</td>\n",
       "      <td>3.750000</td>\n",
       "      <td>17.000000</td>\n",
       "    </tr>\n",
       "    <tr>\n",
       "      <th>...</th>\n",
       "      <td>...</td>\n",
       "      <td>...</td>\n",
       "      <td>...</td>\n",
       "      <td>...</td>\n",
       "      <td>...</td>\n",
       "      <td>...</td>\n",
       "      <td>...</td>\n",
       "    </tr>\n",
       "    <tr>\n",
       "      <th>12804</th>\n",
       "      <td>209143</td>\n",
       "      <td>The Painting (2019)</td>\n",
       "      <td>Animation|Documentary</td>\n",
       "      <td>2019.0</td>\n",
       "      <td>1</td>\n",
       "      <td>1.000000</td>\n",
       "      <td>NaN</td>\n",
       "    </tr>\n",
       "    <tr>\n",
       "      <th>12805</th>\n",
       "      <td>209145</td>\n",
       "      <td>Liberté (2019)</td>\n",
       "      <td>Drama</td>\n",
       "      <td>2019.0</td>\n",
       "      <td>1</td>\n",
       "      <td>1.000000</td>\n",
       "      <td>NaN</td>\n",
       "    </tr>\n",
       "    <tr>\n",
       "      <th>12806</th>\n",
       "      <td>209151</td>\n",
       "      <td>Mao Zedong 1949 (2019)</td>\n",
       "      <td>(no genres listed)</td>\n",
       "      <td>2019.0</td>\n",
       "      <td>1</td>\n",
       "      <td>3.500000</td>\n",
       "      <td>NaN</td>\n",
       "    </tr>\n",
       "    <tr>\n",
       "      <th>12807</th>\n",
       "      <td>209157</td>\n",
       "      <td>We (2018)</td>\n",
       "      <td>Drama</td>\n",
       "      <td>2018.0</td>\n",
       "      <td>1</td>\n",
       "      <td>1.500000</td>\n",
       "      <td>NaN</td>\n",
       "    </tr>\n",
       "    <tr>\n",
       "      <th>12808</th>\n",
       "      <td>209163</td>\n",
       "      <td>Bad Poems (2018)</td>\n",
       "      <td>Comedy|Drama</td>\n",
       "      <td>2018.0</td>\n",
       "      <td>1</td>\n",
       "      <td>4.500000</td>\n",
       "      <td>NaN</td>\n",
       "    </tr>\n",
       "  </tbody>\n",
       "</table>\n",
       "<p>12809 rows × 7 columns</p>\n",
       "</div>"
      ],
      "text/plain": [
       "       movieId                                              title  \\\n",
       "0       166195                           The Submarine Kid (2016)   \n",
       "1       122573                             Expecting Amish (2014)   \n",
       "2       165489                              Ethel & Ernest (2016)   \n",
       "3       179997                                      Myosis (2014)   \n",
       "4       203655  Queen of Spades: Through the Looking Glass (2019)   \n",
       "...        ...                                                ...   \n",
       "12804   209143                                The Painting (2019)   \n",
       "12805   209145                                     Liberté (2019)   \n",
       "12806   209151                             Mao Zedong 1949 (2019)   \n",
       "12807   209157                                          We (2018)   \n",
       "12808   209163                                   Bad Poems (2018)   \n",
       "\n",
       "                       genres    year  rating_count  average_renting  \\\n",
       "0                       Drama  2016.0             4         4.375000   \n",
       "1          (no genres listed)  2014.0             5         2.900000   \n",
       "2          (no genres listed)  2016.0            23         3.630435   \n",
       "3      Animation|Drama|Sci-Fi  2014.0             2         3.000000   \n",
       "4             Horror|Thriller  2019.0             2         3.750000   \n",
       "...                       ...     ...           ...              ...   \n",
       "12804   Animation|Documentary  2019.0             1         1.000000   \n",
       "12805                   Drama  2019.0             1         1.000000   \n",
       "12806      (no genres listed)  2019.0             1         3.500000   \n",
       "12807                   Drama  2018.0             1         1.500000   \n",
       "12808            Comedy|Drama  2018.0             1         4.500000   \n",
       "\n",
       "       adjusted_cosine_similarity  \n",
       "0                       24.000000  \n",
       "1                       18.330584  \n",
       "2                       17.177301  \n",
       "3                       17.000000  \n",
       "4                       17.000000  \n",
       "...                           ...  \n",
       "12804                         NaN  \n",
       "12805                         NaN  \n",
       "12806                         NaN  \n",
       "12807                         NaN  \n",
       "12808                         NaN  \n",
       "\n",
       "[12809 rows x 7 columns]"
      ]
     },
     "execution_count": 65,
     "metadata": {},
     "output_type": "execute_result"
    }
   ],
   "source": [
    "final_df"
   ]
  }
 ],
 "metadata": {
  "kernelspec": {
   "display_name": "Python 3",
   "language": "python",
   "name": "python3"
  },
  "language_info": {
   "codemirror_mode": {
    "name": "ipython",
    "version": 3
   },
   "file_extension": ".py",
   "mimetype": "text/x-python",
   "name": "python",
   "nbconvert_exporter": "python",
   "pygments_lexer": "ipython3",
   "version": "3.7.9"
  }
 },
 "nbformat": 4,
 "nbformat_minor": 5
}
